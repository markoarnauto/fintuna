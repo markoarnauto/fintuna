{
 "cells": [
  {
   "cell_type": "markdown",
   "metadata": {
    "collapsed": true
   },
   "source": [
    "# Crypto End2End Prediction\n",
    "\n",
    "This example demonstrates how to define a data generating process (DGP), how to explore performance of a `LongOnly` model on that data and how to deploy that model live to log outputs via `LogSink`."
   ]
  },
  {
   "cell_type": "code",
   "execution_count": 1,
   "metadata": {
    "tags": [
     "remove-output"
    ]
   },
   "outputs": [
    {
     "name": "stdout",
     "output_type": "stream",
     "text": [
      "loading LINKUSDT\n",
      "loading CHZUSDT\n",
      "loading XEMUSDT\n",
      "loading FILUSDT\n",
      "loading ETCUSDT\n",
      "loading ZILUSDT\n",
      "loading ZECUSDT\n",
      "loading XRPUSDT\n",
      "loading SOLUSDT\n",
      "loading HNTUSDT\n",
      "loading AAVEUSDT\n",
      "loading DOTUSDT\n",
      "loading VETUSDT\n",
      "loading ATOMUSDT\n",
      "loading MATICUSDT\n",
      "loading OMGUSDT\n",
      "loading THETAUSDT\n",
      "loading ALGOUSDT\n",
      "loading BATUSDT\n",
      "loading COMPUSDT\n",
      "loading KAVAUSDT\n",
      "loading DASHUSDT\n",
      "loading UNIUSDT\n"
     ]
    },
    {
     "name": "stderr",
     "output_type": "stream",
     "text": [
      "INFO:numexpr.utils:Note: NumExpr detected 12 cores but \"NUMEXPR_MAX_THREADS\" not set, so enforcing safe limit of 8.\n",
      "INFO:numexpr.utils:NumExpr defaulting to 8 threads.\n",
      "\u001B[32m[I 2022-10-03 10:43:05,315]\u001B[0m A new study created in memory with name: finstudy\u001B[0m\n",
      "INFO:train:start tuning\n",
      "INFO:train:iteration 1/50\n",
      "/Users/markustretzmueller/PycharmProjects/fintuna/fintuna/model/ModelBase.py:55: FutureWarning: suggest_loguniform has been deprecated in v3.0.0. This feature will be removed in v6.0.0. See https://github.com/optuna/optuna/releases/tag/v3.0.0. Use :func:`~optuna.trial.Trial.suggest_float` instead.\n",
      "  'lambda_l1': self.trial.suggest_loguniform('lambda_l1', .01, 10.),\n",
      "/Users/markustretzmueller/PycharmProjects/fintuna/fintuna/model/ModelBase.py:56: FutureWarning: suggest_loguniform has been deprecated in v3.0.0. This feature will be removed in v6.0.0. See https://github.com/optuna/optuna/releases/tag/v3.0.0. Use :func:`~optuna.trial.Trial.suggest_float` instead.\n",
      "  'lambda_l2': self.trial.suggest_loguniform('lambda_l2', .01, 10.),\n"
     ]
    },
    {
     "name": "stdout",
     "output_type": "stream",
     "text": [
      "[LightGBM] [Warning] feature_fraction is set=0.9818313802505146, colsample_bytree=1.0 will be ignored. Current value: feature_fraction=0.9818313802505146\n",
      "[LightGBM] [Warning] lambda_l1 is set=0.8663279761354559, reg_alpha=0.0 will be ignored. Current value: lambda_l1=0.8663279761354559\n",
      "[LightGBM] [Warning] lambda_l2 is set=0.20547625125911342, reg_lambda=0.0 will be ignored. Current value: lambda_l2=0.20547625125911342\n"
     ]
    },
    {
     "name": "stderr",
     "output_type": "stream",
     "text": [
      "INFO:train:iteration 2/50\n",
      "/Users/markustretzmueller/PycharmProjects/fintuna/fintuna/model/ModelBase.py:55: FutureWarning: suggest_loguniform has been deprecated in v3.0.0. This feature will be removed in v6.0.0. See https://github.com/optuna/optuna/releases/tag/v3.0.0. Use :func:`~optuna.trial.Trial.suggest_float` instead.\n",
      "  'lambda_l1': self.trial.suggest_loguniform('lambda_l1', .01, 10.),\n",
      "/Users/markustretzmueller/PycharmProjects/fintuna/fintuna/model/ModelBase.py:56: FutureWarning: suggest_loguniform has been deprecated in v3.0.0. This feature will be removed in v6.0.0. See https://github.com/optuna/optuna/releases/tag/v3.0.0. Use :func:`~optuna.trial.Trial.suggest_float` instead.\n",
      "  'lambda_l2': self.trial.suggest_loguniform('lambda_l2', .01, 10.),\n"
     ]
    },
    {
     "name": "stdout",
     "output_type": "stream",
     "text": [
      "[LightGBM] [Warning] feature_fraction is set=0.916309922773969, colsample_bytree=1.0 will be ignored. Current value: feature_fraction=0.916309922773969\n",
      "[LightGBM] [Warning] lambda_l1 is set=0.0163345876110695, reg_alpha=0.0 will be ignored. Current value: lambda_l1=0.0163345876110695\n",
      "[LightGBM] [Warning] lambda_l2 is set=0.018255254802399014, reg_lambda=0.0 will be ignored. Current value: lambda_l2=0.018255254802399014\n"
     ]
    },
    {
     "name": "stderr",
     "output_type": "stream",
     "text": [
      "INFO:train:iteration 3/50\n",
      "/Users/markustretzmueller/PycharmProjects/fintuna/fintuna/model/ModelBase.py:55: FutureWarning: suggest_loguniform has been deprecated in v3.0.0. This feature will be removed in v6.0.0. See https://github.com/optuna/optuna/releases/tag/v3.0.0. Use :func:`~optuna.trial.Trial.suggest_float` instead.\n",
      "  'lambda_l1': self.trial.suggest_loguniform('lambda_l1', .01, 10.),\n",
      "/Users/markustretzmueller/PycharmProjects/fintuna/fintuna/model/ModelBase.py:56: FutureWarning: suggest_loguniform has been deprecated in v3.0.0. This feature will be removed in v6.0.0. See https://github.com/optuna/optuna/releases/tag/v3.0.0. Use :func:`~optuna.trial.Trial.suggest_float` instead.\n",
      "  'lambda_l2': self.trial.suggest_loguniform('lambda_l2', .01, 10.),\n"
     ]
    },
    {
     "name": "stdout",
     "output_type": "stream",
     "text": [
      "[LightGBM] [Warning] feature_fraction is set=0.5716766437045232, colsample_bytree=1.0 will be ignored. Current value: feature_fraction=0.5716766437045232\n",
      "[LightGBM] [Warning] lambda_l1 is set=2.195773446539456, reg_alpha=0.0 will be ignored. Current value: lambda_l1=2.195773446539456\n",
      "[LightGBM] [Warning] lambda_l2 is set=0.022637229697395487, reg_lambda=0.0 will be ignored. Current value: lambda_l2=0.022637229697395487\n"
     ]
    },
    {
     "name": "stderr",
     "output_type": "stream",
     "text": [
      "INFO:train:iteration 4/50\n",
      "/Users/markustretzmueller/PycharmProjects/fintuna/fintuna/model/ModelBase.py:55: FutureWarning: suggest_loguniform has been deprecated in v3.0.0. This feature will be removed in v6.0.0. See https://github.com/optuna/optuna/releases/tag/v3.0.0. Use :func:`~optuna.trial.Trial.suggest_float` instead.\n",
      "  'lambda_l1': self.trial.suggest_loguniform('lambda_l1', .01, 10.),\n",
      "/Users/markustretzmueller/PycharmProjects/fintuna/fintuna/model/ModelBase.py:56: FutureWarning: suggest_loguniform has been deprecated in v3.0.0. This feature will be removed in v6.0.0. See https://github.com/optuna/optuna/releases/tag/v3.0.0. Use :func:`~optuna.trial.Trial.suggest_float` instead.\n",
      "  'lambda_l2': self.trial.suggest_loguniform('lambda_l2', .01, 10.),\n"
     ]
    },
    {
     "name": "stdout",
     "output_type": "stream",
     "text": [
      "[LightGBM] [Warning] lambda_l1 is set=0.23358825194833557, reg_alpha=0.0 will be ignored. Current value: lambda_l1=0.23358825194833557\n",
      "[LightGBM] [Warning] lambda_l2 is set=0.5073432032394334, reg_lambda=0.0 will be ignored. Current value: lambda_l2=0.5073432032394334\n",
      "[LightGBM] [Warning] feature_fraction is set=0.8088177485379385, colsample_bytree=1.0 will be ignored. Current value: feature_fraction=0.8088177485379385\n"
     ]
    },
    {
     "name": "stderr",
     "output_type": "stream",
     "text": [
      "INFO:train:iteration 5/50\n",
      "/Users/markustretzmueller/PycharmProjects/fintuna/fintuna/model/ModelBase.py:55: FutureWarning: suggest_loguniform has been deprecated in v3.0.0. This feature will be removed in v6.0.0. See https://github.com/optuna/optuna/releases/tag/v3.0.0. Use :func:`~optuna.trial.Trial.suggest_float` instead.\n",
      "  'lambda_l1': self.trial.suggest_loguniform('lambda_l1', .01, 10.),\n",
      "/Users/markustretzmueller/PycharmProjects/fintuna/fintuna/model/ModelBase.py:56: FutureWarning: suggest_loguniform has been deprecated in v3.0.0. This feature will be removed in v6.0.0. See https://github.com/optuna/optuna/releases/tag/v3.0.0. Use :func:`~optuna.trial.Trial.suggest_float` instead.\n",
      "  'lambda_l2': self.trial.suggest_loguniform('lambda_l2', .01, 10.),\n"
     ]
    },
    {
     "name": "stdout",
     "output_type": "stream",
     "text": [
      "[LightGBM] [Warning] feature_fraction is set=0.8333833577228338, colsample_bytree=1.0 will be ignored. Current value: feature_fraction=0.8333833577228338\n",
      "[LightGBM] [Warning] lambda_l1 is set=0.20468963963126674, reg_alpha=0.0 will be ignored. Current value: lambda_l1=0.20468963963126674\n",
      "[LightGBM] [Warning] lambda_l2 is set=1.2384930898256403, reg_lambda=0.0 will be ignored. Current value: lambda_l2=1.2384930898256403\n"
     ]
    },
    {
     "name": "stderr",
     "output_type": "stream",
     "text": [
      "INFO:train:iteration 6/50\n",
      "/Users/markustretzmueller/PycharmProjects/fintuna/fintuna/model/ModelBase.py:55: FutureWarning: suggest_loguniform has been deprecated in v3.0.0. This feature will be removed in v6.0.0. See https://github.com/optuna/optuna/releases/tag/v3.0.0. Use :func:`~optuna.trial.Trial.suggest_float` instead.\n",
      "  'lambda_l1': self.trial.suggest_loguniform('lambda_l1', .01, 10.),\n",
      "/Users/markustretzmueller/PycharmProjects/fintuna/fintuna/model/ModelBase.py:56: FutureWarning: suggest_loguniform has been deprecated in v3.0.0. This feature will be removed in v6.0.0. See https://github.com/optuna/optuna/releases/tag/v3.0.0. Use :func:`~optuna.trial.Trial.suggest_float` instead.\n",
      "  'lambda_l2': self.trial.suggest_loguniform('lambda_l2', .01, 10.),\n"
     ]
    },
    {
     "name": "stdout",
     "output_type": "stream",
     "text": [
      "[LightGBM] [Warning] lambda_l1 is set=0.513558960650023, reg_alpha=0.0 will be ignored. Current value: lambda_l1=0.513558960650023\n",
      "[LightGBM] [Warning] lambda_l2 is set=0.20692098656538346, reg_lambda=0.0 will be ignored. Current value: lambda_l2=0.20692098656538346\n",
      "[LightGBM] [Warning] feature_fraction is set=0.551022405374014, colsample_bytree=1.0 will be ignored. Current value: feature_fraction=0.551022405374014\n"
     ]
    },
    {
     "name": "stderr",
     "output_type": "stream",
     "text": [
      "INFO:train:iteration 7/50\n",
      "/Users/markustretzmueller/PycharmProjects/fintuna/fintuna/model/ModelBase.py:55: FutureWarning: suggest_loguniform has been deprecated in v3.0.0. This feature will be removed in v6.0.0. See https://github.com/optuna/optuna/releases/tag/v3.0.0. Use :func:`~optuna.trial.Trial.suggest_float` instead.\n",
      "  'lambda_l1': self.trial.suggest_loguniform('lambda_l1', .01, 10.),\n",
      "/Users/markustretzmueller/PycharmProjects/fintuna/fintuna/model/ModelBase.py:56: FutureWarning: suggest_loguniform has been deprecated in v3.0.0. This feature will be removed in v6.0.0. See https://github.com/optuna/optuna/releases/tag/v3.0.0. Use :func:`~optuna.trial.Trial.suggest_float` instead.\n",
      "  'lambda_l2': self.trial.suggest_loguniform('lambda_l2', .01, 10.),\n"
     ]
    },
    {
     "name": "stdout",
     "output_type": "stream",
     "text": [
      "[LightGBM] [Warning] lambda_l1 is set=0.054109905567678765, reg_alpha=0.0 will be ignored. Current value: lambda_l1=0.054109905567678765\n",
      "[LightGBM] [Warning] lambda_l2 is set=0.0299853243494544, reg_lambda=0.0 will be ignored. Current value: lambda_l2=0.0299853243494544\n",
      "[LightGBM] [Warning] feature_fraction is set=0.8281647947326367, colsample_bytree=1.0 will be ignored. Current value: feature_fraction=0.8281647947326367\n"
     ]
    },
    {
     "name": "stderr",
     "output_type": "stream",
     "text": [
      "INFO:train:iteration 8/50\n",
      "/Users/markustretzmueller/PycharmProjects/fintuna/fintuna/model/ModelBase.py:55: FutureWarning: suggest_loguniform has been deprecated in v3.0.0. This feature will be removed in v6.0.0. See https://github.com/optuna/optuna/releases/tag/v3.0.0. Use :func:`~optuna.trial.Trial.suggest_float` instead.\n",
      "  'lambda_l1': self.trial.suggest_loguniform('lambda_l1', .01, 10.),\n",
      "/Users/markustretzmueller/PycharmProjects/fintuna/fintuna/model/ModelBase.py:56: FutureWarning: suggest_loguniform has been deprecated in v3.0.0. This feature will be removed in v6.0.0. See https://github.com/optuna/optuna/releases/tag/v3.0.0. Use :func:`~optuna.trial.Trial.suggest_float` instead.\n",
      "  'lambda_l2': self.trial.suggest_loguniform('lambda_l2', .01, 10.),\n"
     ]
    },
    {
     "name": "stdout",
     "output_type": "stream",
     "text": [
      "[LightGBM] [Warning] feature_fraction is set=0.7343256008238508, colsample_bytree=1.0 will be ignored. Current value: feature_fraction=0.7343256008238508\n",
      "[LightGBM] [Warning] lambda_l1 is set=3.264635677523522, reg_alpha=0.0 will be ignored. Current value: lambda_l1=3.264635677523522\n",
      "[LightGBM] [Warning] lambda_l2 is set=0.01942205696972693, reg_lambda=0.0 will be ignored. Current value: lambda_l2=0.01942205696972693\n"
     ]
    },
    {
     "name": "stderr",
     "output_type": "stream",
     "text": [
      "INFO:train:iteration 9/50\n",
      "/Users/markustretzmueller/PycharmProjects/fintuna/fintuna/model/ModelBase.py:55: FutureWarning: suggest_loguniform has been deprecated in v3.0.0. This feature will be removed in v6.0.0. See https://github.com/optuna/optuna/releases/tag/v3.0.0. Use :func:`~optuna.trial.Trial.suggest_float` instead.\n",
      "  'lambda_l1': self.trial.suggest_loguniform('lambda_l1', .01, 10.),\n",
      "/Users/markustretzmueller/PycharmProjects/fintuna/fintuna/model/ModelBase.py:56: FutureWarning: suggest_loguniform has been deprecated in v3.0.0. This feature will be removed in v6.0.0. See https://github.com/optuna/optuna/releases/tag/v3.0.0. Use :func:`~optuna.trial.Trial.suggest_float` instead.\n",
      "  'lambda_l2': self.trial.suggest_loguniform('lambda_l2', .01, 10.),\n"
     ]
    },
    {
     "name": "stdout",
     "output_type": "stream",
     "text": [
      "[LightGBM] [Warning] lambda_l1 is set=0.022939802981311864, reg_alpha=0.0 will be ignored. Current value: lambda_l1=0.022939802981311864\n",
      "[LightGBM] [Warning] lambda_l2 is set=0.07734292502064648, reg_lambda=0.0 will be ignored. Current value: lambda_l2=0.07734292502064648\n",
      "[LightGBM] [Warning] feature_fraction is set=0.658991589696988, colsample_bytree=1.0 will be ignored. Current value: feature_fraction=0.658991589696988\n"
     ]
    },
    {
     "name": "stderr",
     "output_type": "stream",
     "text": [
      "INFO:train:iteration 10/50\n",
      "/Users/markustretzmueller/PycharmProjects/fintuna/fintuna/model/ModelBase.py:55: FutureWarning: suggest_loguniform has been deprecated in v3.0.0. This feature will be removed in v6.0.0. See https://github.com/optuna/optuna/releases/tag/v3.0.0. Use :func:`~optuna.trial.Trial.suggest_float` instead.\n",
      "  'lambda_l1': self.trial.suggest_loguniform('lambda_l1', .01, 10.),\n",
      "/Users/markustretzmueller/PycharmProjects/fintuna/fintuna/model/ModelBase.py:56: FutureWarning: suggest_loguniform has been deprecated in v3.0.0. This feature will be removed in v6.0.0. See https://github.com/optuna/optuna/releases/tag/v3.0.0. Use :func:`~optuna.trial.Trial.suggest_float` instead.\n",
      "  'lambda_l2': self.trial.suggest_loguniform('lambda_l2', .01, 10.),\n"
     ]
    },
    {
     "name": "stdout",
     "output_type": "stream",
     "text": [
      "[LightGBM] [Warning] lambda_l1 is set=0.3713164249534622, reg_alpha=0.0 will be ignored. Current value: lambda_l1=0.3713164249534622\n",
      "[LightGBM] [Warning] lambda_l2 is set=0.01913469447807098, reg_lambda=0.0 will be ignored. Current value: lambda_l2=0.01913469447807098\n",
      "[LightGBM] [Warning] feature_fraction is set=0.964648098788107, colsample_bytree=1.0 will be ignored. Current value: feature_fraction=0.964648098788107\n"
     ]
    },
    {
     "name": "stderr",
     "output_type": "stream",
     "text": [
      "INFO:train:iteration 11/50\n",
      "/Users/markustretzmueller/PycharmProjects/fintuna/fintuna/model/ModelBase.py:55: FutureWarning: suggest_loguniform has been deprecated in v3.0.0. This feature will be removed in v6.0.0. See https://github.com/optuna/optuna/releases/tag/v3.0.0. Use :func:`~optuna.trial.Trial.suggest_float` instead.\n",
      "  'lambda_l1': self.trial.suggest_loguniform('lambda_l1', .01, 10.),\n",
      "/Users/markustretzmueller/PycharmProjects/fintuna/fintuna/model/ModelBase.py:56: FutureWarning: suggest_loguniform has been deprecated in v3.0.0. This feature will be removed in v6.0.0. See https://github.com/optuna/optuna/releases/tag/v3.0.0. Use :func:`~optuna.trial.Trial.suggest_float` instead.\n",
      "  'lambda_l2': self.trial.suggest_loguniform('lambda_l2', .01, 10.),\n"
     ]
    },
    {
     "name": "stdout",
     "output_type": "stream",
     "text": [
      "[LightGBM] [Warning] feature_fraction is set=0.8603209403261031, colsample_bytree=1.0 will be ignored. Current value: feature_fraction=0.8603209403261031\n",
      "[LightGBM] [Warning] lambda_l1 is set=1.0509957901291773, reg_alpha=0.0 will be ignored. Current value: lambda_l1=1.0509957901291773\n",
      "[LightGBM] [Warning] lambda_l2 is set=1.5877753320643981, reg_lambda=0.0 will be ignored. Current value: lambda_l2=1.5877753320643981\n"
     ]
    },
    {
     "name": "stderr",
     "output_type": "stream",
     "text": [
      "INFO:train:iteration 12/50\n",
      "/Users/markustretzmueller/PycharmProjects/fintuna/fintuna/model/ModelBase.py:55: FutureWarning: suggest_loguniform has been deprecated in v3.0.0. This feature will be removed in v6.0.0. See https://github.com/optuna/optuna/releases/tag/v3.0.0. Use :func:`~optuna.trial.Trial.suggest_float` instead.\n",
      "  'lambda_l1': self.trial.suggest_loguniform('lambda_l1', .01, 10.),\n",
      "/Users/markustretzmueller/PycharmProjects/fintuna/fintuna/model/ModelBase.py:56: FutureWarning: suggest_loguniform has been deprecated in v3.0.0. This feature will be removed in v6.0.0. See https://github.com/optuna/optuna/releases/tag/v3.0.0. Use :func:`~optuna.trial.Trial.suggest_float` instead.\n",
      "  'lambda_l2': self.trial.suggest_loguniform('lambda_l2', .01, 10.),\n"
     ]
    },
    {
     "name": "stdout",
     "output_type": "stream",
     "text": [
      "[LightGBM] [Warning] feature_fraction is set=0.9995043574743891, colsample_bytree=1.0 will be ignored. Current value: feature_fraction=0.9995043574743891\n",
      "[LightGBM] [Warning] lambda_l1 is set=0.7059197852452204, reg_alpha=0.0 will be ignored. Current value: lambda_l1=0.7059197852452204\n",
      "[LightGBM] [Warning] lambda_l2 is set=0.2793817360732296, reg_lambda=0.0 will be ignored. Current value: lambda_l2=0.2793817360732296\n"
     ]
    },
    {
     "name": "stderr",
     "output_type": "stream",
     "text": [
      "INFO:train:iteration 13/50\n",
      "/Users/markustretzmueller/PycharmProjects/fintuna/fintuna/model/ModelBase.py:55: FutureWarning: suggest_loguniform has been deprecated in v3.0.0. This feature will be removed in v6.0.0. See https://github.com/optuna/optuna/releases/tag/v3.0.0. Use :func:`~optuna.trial.Trial.suggest_float` instead.\n",
      "  'lambda_l1': self.trial.suggest_loguniform('lambda_l1', .01, 10.),\n",
      "/Users/markustretzmueller/PycharmProjects/fintuna/fintuna/model/ModelBase.py:56: FutureWarning: suggest_loguniform has been deprecated in v3.0.0. This feature will be removed in v6.0.0. See https://github.com/optuna/optuna/releases/tag/v3.0.0. Use :func:`~optuna.trial.Trial.suggest_float` instead.\n",
      "  'lambda_l2': self.trial.suggest_loguniform('lambda_l2', .01, 10.),\n"
     ]
    },
    {
     "name": "stdout",
     "output_type": "stream",
     "text": [
      "[LightGBM] [Warning] feature_fraction is set=0.6419740102674933, colsample_bytree=1.0 will be ignored. Current value: feature_fraction=0.6419740102674933\n",
      "[LightGBM] [Warning] lambda_l1 is set=0.15780015740069836, reg_alpha=0.0 will be ignored. Current value: lambda_l1=0.15780015740069836\n",
      "[LightGBM] [Warning] lambda_l2 is set=0.01339296537303129, reg_lambda=0.0 will be ignored. Current value: lambda_l2=0.01339296537303129\n"
     ]
    },
    {
     "name": "stderr",
     "output_type": "stream",
     "text": [
      "INFO:train:iteration 14/50\n",
      "/Users/markustretzmueller/PycharmProjects/fintuna/fintuna/model/ModelBase.py:55: FutureWarning: suggest_loguniform has been deprecated in v3.0.0. This feature will be removed in v6.0.0. See https://github.com/optuna/optuna/releases/tag/v3.0.0. Use :func:`~optuna.trial.Trial.suggest_float` instead.\n",
      "  'lambda_l1': self.trial.suggest_loguniform('lambda_l1', .01, 10.),\n",
      "/Users/markustretzmueller/PycharmProjects/fintuna/fintuna/model/ModelBase.py:56: FutureWarning: suggest_loguniform has been deprecated in v3.0.0. This feature will be removed in v6.0.0. See https://github.com/optuna/optuna/releases/tag/v3.0.0. Use :func:`~optuna.trial.Trial.suggest_float` instead.\n",
      "  'lambda_l2': self.trial.suggest_loguniform('lambda_l2', .01, 10.),\n"
     ]
    },
    {
     "name": "stdout",
     "output_type": "stream",
     "text": [
      "[LightGBM] [Warning] feature_fraction is set=0.6187694761898348, colsample_bytree=1.0 will be ignored. Current value: feature_fraction=0.6187694761898348\n",
      "[LightGBM] [Warning] lambda_l1 is set=0.12287550833179427, reg_alpha=0.0 will be ignored. Current value: lambda_l1=0.12287550833179427\n",
      "[LightGBM] [Warning] lambda_l2 is set=0.06119962376908012, reg_lambda=0.0 will be ignored. Current value: lambda_l2=0.06119962376908012\n"
     ]
    },
    {
     "name": "stderr",
     "output_type": "stream",
     "text": [
      "INFO:train:iteration 15/50\n",
      "/Users/markustretzmueller/PycharmProjects/fintuna/fintuna/model/ModelBase.py:55: FutureWarning: suggest_loguniform has been deprecated in v3.0.0. This feature will be removed in v6.0.0. See https://github.com/optuna/optuna/releases/tag/v3.0.0. Use :func:`~optuna.trial.Trial.suggest_float` instead.\n",
      "  'lambda_l1': self.trial.suggest_loguniform('lambda_l1', .01, 10.),\n",
      "/Users/markustretzmueller/PycharmProjects/fintuna/fintuna/model/ModelBase.py:56: FutureWarning: suggest_loguniform has been deprecated in v3.0.0. This feature will be removed in v6.0.0. See https://github.com/optuna/optuna/releases/tag/v3.0.0. Use :func:`~optuna.trial.Trial.suggest_float` instead.\n",
      "  'lambda_l2': self.trial.suggest_loguniform('lambda_l2', .01, 10.),\n"
     ]
    },
    {
     "name": "stdout",
     "output_type": "stream",
     "text": [
      "[LightGBM] [Warning] feature_fraction is set=0.982587833124152, colsample_bytree=1.0 will be ignored. Current value: feature_fraction=0.982587833124152\n",
      "[LightGBM] [Warning] lambda_l1 is set=0.09582402567920822, reg_alpha=0.0 will be ignored. Current value: lambda_l1=0.09582402567920822\n",
      "[LightGBM] [Warning] lambda_l2 is set=0.12619687998758675, reg_lambda=0.0 will be ignored. Current value: lambda_l2=0.12619687998758675\n"
     ]
    },
    {
     "name": "stderr",
     "output_type": "stream",
     "text": [
      "INFO:train:iteration 16/50\n",
      "/Users/markustretzmueller/PycharmProjects/fintuna/fintuna/model/ModelBase.py:55: FutureWarning: suggest_loguniform has been deprecated in v3.0.0. This feature will be removed in v6.0.0. See https://github.com/optuna/optuna/releases/tag/v3.0.0. Use :func:`~optuna.trial.Trial.suggest_float` instead.\n",
      "  'lambda_l1': self.trial.suggest_loguniform('lambda_l1', .01, 10.),\n",
      "/Users/markustretzmueller/PycharmProjects/fintuna/fintuna/model/ModelBase.py:56: FutureWarning: suggest_loguniform has been deprecated in v3.0.0. This feature will be removed in v6.0.0. See https://github.com/optuna/optuna/releases/tag/v3.0.0. Use :func:`~optuna.trial.Trial.suggest_float` instead.\n",
      "  'lambda_l2': self.trial.suggest_loguniform('lambda_l2', .01, 10.),\n"
     ]
    },
    {
     "name": "stdout",
     "output_type": "stream",
     "text": [
      "[LightGBM] [Warning] lambda_l1 is set=0.29056430429231717, reg_alpha=0.0 will be ignored. Current value: lambda_l1=0.29056430429231717\n",
      "[LightGBM] [Warning] lambda_l2 is set=0.010964016820597371, reg_lambda=0.0 will be ignored. Current value: lambda_l2=0.010964016820597371\n",
      "[LightGBM] [Warning] feature_fraction is set=0.5084893612846959, colsample_bytree=1.0 will be ignored. Current value: feature_fraction=0.5084893612846959\n"
     ]
    },
    {
     "name": "stderr",
     "output_type": "stream",
     "text": [
      "INFO:train:iteration 17/50\n",
      "/Users/markustretzmueller/PycharmProjects/fintuna/fintuna/model/ModelBase.py:55: FutureWarning: suggest_loguniform has been deprecated in v3.0.0. This feature will be removed in v6.0.0. See https://github.com/optuna/optuna/releases/tag/v3.0.0. Use :func:`~optuna.trial.Trial.suggest_float` instead.\n",
      "  'lambda_l1': self.trial.suggest_loguniform('lambda_l1', .01, 10.),\n",
      "/Users/markustretzmueller/PycharmProjects/fintuna/fintuna/model/ModelBase.py:56: FutureWarning: suggest_loguniform has been deprecated in v3.0.0. This feature will be removed in v6.0.0. See https://github.com/optuna/optuna/releases/tag/v3.0.0. Use :func:`~optuna.trial.Trial.suggest_float` instead.\n",
      "  'lambda_l2': self.trial.suggest_loguniform('lambda_l2', .01, 10.),\n"
     ]
    },
    {
     "name": "stdout",
     "output_type": "stream",
     "text": [
      "[LightGBM] [Warning] feature_fraction is set=0.6824900801611538, colsample_bytree=1.0 will be ignored. Current value: feature_fraction=0.6824900801611538\n",
      "[LightGBM] [Warning] lambda_l1 is set=0.03754850731805037, reg_alpha=0.0 will be ignored. Current value: lambda_l1=0.03754850731805037\n",
      "[LightGBM] [Warning] lambda_l2 is set=2.6365567526677247, reg_lambda=0.0 will be ignored. Current value: lambda_l2=2.6365567526677247\n"
     ]
    },
    {
     "name": "stderr",
     "output_type": "stream",
     "text": [
      "INFO:train:iteration 18/50\n",
      "/Users/markustretzmueller/PycharmProjects/fintuna/fintuna/model/ModelBase.py:55: FutureWarning: suggest_loguniform has been deprecated in v3.0.0. This feature will be removed in v6.0.0. See https://github.com/optuna/optuna/releases/tag/v3.0.0. Use :func:`~optuna.trial.Trial.suggest_float` instead.\n",
      "  'lambda_l1': self.trial.suggest_loguniform('lambda_l1', .01, 10.),\n",
      "/Users/markustretzmueller/PycharmProjects/fintuna/fintuna/model/ModelBase.py:56: FutureWarning: suggest_loguniform has been deprecated in v3.0.0. This feature will be removed in v6.0.0. See https://github.com/optuna/optuna/releases/tag/v3.0.0. Use :func:`~optuna.trial.Trial.suggest_float` instead.\n",
      "  'lambda_l2': self.trial.suggest_loguniform('lambda_l2', .01, 10.),\n"
     ]
    },
    {
     "name": "stdout",
     "output_type": "stream",
     "text": [
      "[LightGBM] [Warning] lambda_l1 is set=0.012441684521909923, reg_alpha=0.0 will be ignored. Current value: lambda_l1=0.012441684521909923\n",
      "[LightGBM] [Warning] lambda_l2 is set=0.046140390250140155, reg_lambda=0.0 will be ignored. Current value: lambda_l2=0.046140390250140155\n",
      "[LightGBM] [Warning] feature_fraction is set=0.8805680068985302, colsample_bytree=1.0 will be ignored. Current value: feature_fraction=0.8805680068985302\n"
     ]
    },
    {
     "name": "stderr",
     "output_type": "stream",
     "text": [
      "INFO:train:iteration 19/50\n",
      "/Users/markustretzmueller/PycharmProjects/fintuna/fintuna/model/ModelBase.py:55: FutureWarning: suggest_loguniform has been deprecated in v3.0.0. This feature will be removed in v6.0.0. See https://github.com/optuna/optuna/releases/tag/v3.0.0. Use :func:`~optuna.trial.Trial.suggest_float` instead.\n",
      "  'lambda_l1': self.trial.suggest_loguniform('lambda_l1', .01, 10.),\n",
      "/Users/markustretzmueller/PycharmProjects/fintuna/fintuna/model/ModelBase.py:56: FutureWarning: suggest_loguniform has been deprecated in v3.0.0. This feature will be removed in v6.0.0. See https://github.com/optuna/optuna/releases/tag/v3.0.0. Use :func:`~optuna.trial.Trial.suggest_float` instead.\n",
      "  'lambda_l2': self.trial.suggest_loguniform('lambda_l2', .01, 10.),\n"
     ]
    },
    {
     "name": "stdout",
     "output_type": "stream",
     "text": [
      "[LightGBM] [Warning] lambda_l1 is set=0.030397427680201393, reg_alpha=0.0 will be ignored. Current value: lambda_l1=0.030397427680201393\n",
      "[LightGBM] [Warning] lambda_l2 is set=0.16686249349210738, reg_lambda=0.0 will be ignored. Current value: lambda_l2=0.16686249349210738\n",
      "[LightGBM] [Warning] feature_fraction is set=0.6024764339347705, colsample_bytree=1.0 will be ignored. Current value: feature_fraction=0.6024764339347705\n"
     ]
    },
    {
     "name": "stderr",
     "output_type": "stream",
     "text": [
      "INFO:train:iteration 20/50\n",
      "/Users/markustretzmueller/PycharmProjects/fintuna/fintuna/model/ModelBase.py:55: FutureWarning: suggest_loguniform has been deprecated in v3.0.0. This feature will be removed in v6.0.0. See https://github.com/optuna/optuna/releases/tag/v3.0.0. Use :func:`~optuna.trial.Trial.suggest_float` instead.\n",
      "  'lambda_l1': self.trial.suggest_loguniform('lambda_l1', .01, 10.),\n",
      "/Users/markustretzmueller/PycharmProjects/fintuna/fintuna/model/ModelBase.py:56: FutureWarning: suggest_loguniform has been deprecated in v3.0.0. This feature will be removed in v6.0.0. See https://github.com/optuna/optuna/releases/tag/v3.0.0. Use :func:`~optuna.trial.Trial.suggest_float` instead.\n",
      "  'lambda_l2': self.trial.suggest_loguniform('lambda_l2', .01, 10.),\n"
     ]
    },
    {
     "name": "stdout",
     "output_type": "stream",
     "text": [
      "[LightGBM] [Warning] lambda_l1 is set=1.6016593793330114, reg_alpha=0.0 will be ignored. Current value: lambda_l1=1.6016593793330114\n",
      "[LightGBM] [Warning] lambda_l2 is set=0.09057662834793208, reg_lambda=0.0 will be ignored. Current value: lambda_l2=0.09057662834793208\n",
      "[LightGBM] [Warning] feature_fraction is set=0.9342890489962028, colsample_bytree=1.0 will be ignored. Current value: feature_fraction=0.9342890489962028\n"
     ]
    },
    {
     "name": "stderr",
     "output_type": "stream",
     "text": [
      "INFO:train:iteration 21/50\n",
      "/Users/markustretzmueller/PycharmProjects/fintuna/fintuna/model/ModelBase.py:55: FutureWarning: suggest_loguniform has been deprecated in v3.0.0. This feature will be removed in v6.0.0. See https://github.com/optuna/optuna/releases/tag/v3.0.0. Use :func:`~optuna.trial.Trial.suggest_float` instead.\n",
      "  'lambda_l1': self.trial.suggest_loguniform('lambda_l1', .01, 10.),\n",
      "/Users/markustretzmueller/PycharmProjects/fintuna/fintuna/model/ModelBase.py:56: FutureWarning: suggest_loguniform has been deprecated in v3.0.0. This feature will be removed in v6.0.0. See https://github.com/optuna/optuna/releases/tag/v3.0.0. Use :func:`~optuna.trial.Trial.suggest_float` instead.\n",
      "  'lambda_l2': self.trial.suggest_loguniform('lambda_l2', .01, 10.),\n"
     ]
    },
    {
     "name": "stdout",
     "output_type": "stream",
     "text": [
      "[LightGBM] [Warning] lambda_l1 is set=1.34180307901303, reg_alpha=0.0 will be ignored. Current value: lambda_l1=1.34180307901303\n",
      "[LightGBM] [Warning] lambda_l2 is set=0.3607922986069653, reg_lambda=0.0 will be ignored. Current value: lambda_l2=0.3607922986069653\n",
      "[LightGBM] [Warning] feature_fraction is set=0.9524096344742037, colsample_bytree=1.0 will be ignored. Current value: feature_fraction=0.9524096344742037\n"
     ]
    },
    {
     "name": "stderr",
     "output_type": "stream",
     "text": [
      "INFO:train:iteration 22/50\n",
      "/Users/markustretzmueller/PycharmProjects/fintuna/fintuna/model/ModelBase.py:55: FutureWarning: suggest_loguniform has been deprecated in v3.0.0. This feature will be removed in v6.0.0. See https://github.com/optuna/optuna/releases/tag/v3.0.0. Use :func:`~optuna.trial.Trial.suggest_float` instead.\n",
      "  'lambda_l1': self.trial.suggest_loguniform('lambda_l1', .01, 10.),\n",
      "/Users/markustretzmueller/PycharmProjects/fintuna/fintuna/model/ModelBase.py:56: FutureWarning: suggest_loguniform has been deprecated in v3.0.0. This feature will be removed in v6.0.0. See https://github.com/optuna/optuna/releases/tag/v3.0.0. Use :func:`~optuna.trial.Trial.suggest_float` instead.\n",
      "  'lambda_l2': self.trial.suggest_loguniform('lambda_l2', .01, 10.),\n"
     ]
    },
    {
     "name": "stdout",
     "output_type": "stream",
     "text": [
      "[LightGBM] [Warning] lambda_l1 is set=0.010292017364303307, reg_alpha=0.0 will be ignored. Current value: lambda_l1=0.010292017364303307\n",
      "[LightGBM] [Warning] lambda_l2 is set=0.015265152132385355, reg_lambda=0.0 will be ignored. Current value: lambda_l2=0.015265152132385355\n",
      "[LightGBM] [Warning] feature_fraction is set=0.791390195621356, colsample_bytree=1.0 will be ignored. Current value: feature_fraction=0.791390195621356\n"
     ]
    },
    {
     "name": "stderr",
     "output_type": "stream",
     "text": [
      "INFO:train:iteration 23/50\n",
      "/Users/markustretzmueller/PycharmProjects/fintuna/fintuna/model/ModelBase.py:55: FutureWarning: suggest_loguniform has been deprecated in v3.0.0. This feature will be removed in v6.0.0. See https://github.com/optuna/optuna/releases/tag/v3.0.0. Use :func:`~optuna.trial.Trial.suggest_float` instead.\n",
      "  'lambda_l1': self.trial.suggest_loguniform('lambda_l1', .01, 10.),\n",
      "/Users/markustretzmueller/PycharmProjects/fintuna/fintuna/model/ModelBase.py:56: FutureWarning: suggest_loguniform has been deprecated in v3.0.0. This feature will be removed in v6.0.0. See https://github.com/optuna/optuna/releases/tag/v3.0.0. Use :func:`~optuna.trial.Trial.suggest_float` instead.\n",
      "  'lambda_l2': self.trial.suggest_loguniform('lambda_l2', .01, 10.),\n"
     ]
    },
    {
     "name": "stdout",
     "output_type": "stream",
     "text": [
      "[LightGBM] [Warning] lambda_l1 is set=0.862853543474543, reg_alpha=0.0 will be ignored. Current value: lambda_l1=0.862853543474543\n",
      "[LightGBM] [Warning] lambda_l2 is set=4.130366518858301, reg_lambda=0.0 will be ignored. Current value: lambda_l2=4.130366518858301\n",
      "[LightGBM] [Warning] feature_fraction is set=0.9206590226052604, colsample_bytree=1.0 will be ignored. Current value: feature_fraction=0.9206590226052604\n"
     ]
    },
    {
     "name": "stderr",
     "output_type": "stream",
     "text": [
      "INFO:train:iteration 24/50\n",
      "/Users/markustretzmueller/PycharmProjects/fintuna/fintuna/model/ModelBase.py:55: FutureWarning: suggest_loguniform has been deprecated in v3.0.0. This feature will be removed in v6.0.0. See https://github.com/optuna/optuna/releases/tag/v3.0.0. Use :func:`~optuna.trial.Trial.suggest_float` instead.\n",
      "  'lambda_l1': self.trial.suggest_loguniform('lambda_l1', .01, 10.),\n",
      "/Users/markustretzmueller/PycharmProjects/fintuna/fintuna/model/ModelBase.py:56: FutureWarning: suggest_loguniform has been deprecated in v3.0.0. This feature will be removed in v6.0.0. See https://github.com/optuna/optuna/releases/tag/v3.0.0. Use :func:`~optuna.trial.Trial.suggest_float` instead.\n",
      "  'lambda_l2': self.trial.suggest_loguniform('lambda_l2', .01, 10.),\n"
     ]
    },
    {
     "name": "stdout",
     "output_type": "stream",
     "text": [
      "[LightGBM] [Warning] lambda_l1 is set=0.07827679136512947, reg_alpha=0.0 will be ignored. Current value: lambda_l1=0.07827679136512947\n",
      "[LightGBM] [Warning] lambda_l2 is set=0.2400549814297541, reg_lambda=0.0 will be ignored. Current value: lambda_l2=0.2400549814297541\n",
      "[LightGBM] [Warning] feature_fraction is set=0.7010629912027522, colsample_bytree=1.0 will be ignored. Current value: feature_fraction=0.7010629912027522\n"
     ]
    },
    {
     "name": "stderr",
     "output_type": "stream",
     "text": [
      "INFO:train:iteration 25/50\n",
      "/Users/markustretzmueller/PycharmProjects/fintuna/fintuna/model/ModelBase.py:55: FutureWarning: suggest_loguniform has been deprecated in v3.0.0. This feature will be removed in v6.0.0. See https://github.com/optuna/optuna/releases/tag/v3.0.0. Use :func:`~optuna.trial.Trial.suggest_float` instead.\n",
      "  'lambda_l1': self.trial.suggest_loguniform('lambda_l1', .01, 10.),\n",
      "/Users/markustretzmueller/PycharmProjects/fintuna/fintuna/model/ModelBase.py:56: FutureWarning: suggest_loguniform has been deprecated in v3.0.0. This feature will be removed in v6.0.0. See https://github.com/optuna/optuna/releases/tag/v3.0.0. Use :func:`~optuna.trial.Trial.suggest_float` instead.\n",
      "  'lambda_l2': self.trial.suggest_loguniform('lambda_l2', .01, 10.),\n"
     ]
    },
    {
     "name": "stdout",
     "output_type": "stream",
     "text": [
      "[LightGBM] [Warning] lambda_l1 is set=0.0180091994651745, reg_alpha=0.0 will be ignored. Current value: lambda_l1=0.0180091994651745\n",
      "[LightGBM] [Warning] lambda_l2 is set=0.1071604805087419, reg_lambda=0.0 will be ignored. Current value: lambda_l2=0.1071604805087419\n",
      "[LightGBM] [Warning] feature_fraction is set=0.5317630872872304, colsample_bytree=1.0 will be ignored. Current value: feature_fraction=0.5317630872872304\n"
     ]
    },
    {
     "name": "stderr",
     "output_type": "stream",
     "text": [
      "INFO:train:iteration 26/50\n",
      "/Users/markustretzmueller/PycharmProjects/fintuna/fintuna/model/ModelBase.py:55: FutureWarning: suggest_loguniform has been deprecated in v3.0.0. This feature will be removed in v6.0.0. See https://github.com/optuna/optuna/releases/tag/v3.0.0. Use :func:`~optuna.trial.Trial.suggest_float` instead.\n",
      "  'lambda_l1': self.trial.suggest_loguniform('lambda_l1', .01, 10.),\n",
      "/Users/markustretzmueller/PycharmProjects/fintuna/fintuna/model/ModelBase.py:56: FutureWarning: suggest_loguniform has been deprecated in v3.0.0. This feature will be removed in v6.0.0. See https://github.com/optuna/optuna/releases/tag/v3.0.0. Use :func:`~optuna.trial.Trial.suggest_float` instead.\n",
      "  'lambda_l2': self.trial.suggest_loguniform('lambda_l2', .01, 10.),\n"
     ]
    },
    {
     "name": "stdout",
     "output_type": "stream",
     "text": [
      "[LightGBM] [Warning] lambda_l1 is set=0.4435890490241315, reg_alpha=0.0 will be ignored. Current value: lambda_l1=0.4435890490241315\n",
      "[LightGBM] [Warning] lambda_l2 is set=0.7631776984027265, reg_lambda=0.0 will be ignored. Current value: lambda_l2=0.7631776984027265\n",
      "[LightGBM] [Warning] feature_fraction is set=0.5829126720447225, colsample_bytree=1.0 will be ignored. Current value: feature_fraction=0.5829126720447225\n"
     ]
    },
    {
     "name": "stderr",
     "output_type": "stream",
     "text": [
      "INFO:train:iteration 27/50\n",
      "/Users/markustretzmueller/PycharmProjects/fintuna/fintuna/model/ModelBase.py:55: FutureWarning: suggest_loguniform has been deprecated in v3.0.0. This feature will be removed in v6.0.0. See https://github.com/optuna/optuna/releases/tag/v3.0.0. Use :func:`~optuna.trial.Trial.suggest_float` instead.\n",
      "  'lambda_l1': self.trial.suggest_loguniform('lambda_l1', .01, 10.),\n",
      "/Users/markustretzmueller/PycharmProjects/fintuna/fintuna/model/ModelBase.py:56: FutureWarning: suggest_loguniform has been deprecated in v3.0.0. This feature will be removed in v6.0.0. See https://github.com/optuna/optuna/releases/tag/v3.0.0. Use :func:`~optuna.trial.Trial.suggest_float` instead.\n",
      "  'lambda_l2': self.trial.suggest_loguniform('lambda_l2', .01, 10.),\n"
     ]
    },
    {
     "name": "stdout",
     "output_type": "stream",
     "text": [
      "[LightGBM] [Warning] feature_fraction is set=0.9021700064024185, colsample_bytree=1.0 will be ignored. Current value: feature_fraction=0.9021700064024185\n",
      "[LightGBM] [Warning] lambda_l1 is set=1.8625120980908694, reg_alpha=0.0 will be ignored. Current value: lambda_l1=1.8625120980908694\n",
      "[LightGBM] [Warning] lambda_l2 is set=0.035637615372558176, reg_lambda=0.0 will be ignored. Current value: lambda_l2=0.035637615372558176\n"
     ]
    },
    {
     "name": "stderr",
     "output_type": "stream",
     "text": [
      "INFO:train:iteration 28/50\n",
      "/Users/markustretzmueller/PycharmProjects/fintuna/fintuna/model/ModelBase.py:55: FutureWarning: suggest_loguniform has been deprecated in v3.0.0. This feature will be removed in v6.0.0. See https://github.com/optuna/optuna/releases/tag/v3.0.0. Use :func:`~optuna.trial.Trial.suggest_float` instead.\n",
      "  'lambda_l1': self.trial.suggest_loguniform('lambda_l1', .01, 10.),\n",
      "/Users/markustretzmueller/PycharmProjects/fintuna/fintuna/model/ModelBase.py:56: FutureWarning: suggest_loguniform has been deprecated in v3.0.0. This feature will be removed in v6.0.0. See https://github.com/optuna/optuna/releases/tag/v3.0.0. Use :func:`~optuna.trial.Trial.suggest_float` instead.\n",
      "  'lambda_l2': self.trial.suggest_loguniform('lambda_l2', .01, 10.),\n"
     ]
    },
    {
     "name": "stdout",
     "output_type": "stream",
     "text": [
      "[LightGBM] [Warning] lambda_l1 is set=0.6124451601409542, reg_alpha=0.0 will be ignored. Current value: lambda_l1=0.6124451601409542\n",
      "[LightGBM] [Warning] lambda_l2 is set=0.5852780954341225, reg_lambda=0.0 will be ignored. Current value: lambda_l2=0.5852780954341225\n",
      "[LightGBM] [Warning] feature_fraction is set=0.7640652291395175, colsample_bytree=1.0 will be ignored. Current value: feature_fraction=0.7640652291395175\n"
     ]
    },
    {
     "name": "stderr",
     "output_type": "stream",
     "text": [
      "INFO:train:iteration 29/50\n",
      "/Users/markustretzmueller/PycharmProjects/fintuna/fintuna/model/ModelBase.py:55: FutureWarning: suggest_loguniform has been deprecated in v3.0.0. This feature will be removed in v6.0.0. See https://github.com/optuna/optuna/releases/tag/v3.0.0. Use :func:`~optuna.trial.Trial.suggest_float` instead.\n",
      "  'lambda_l1': self.trial.suggest_loguniform('lambda_l1', .01, 10.),\n",
      "/Users/markustretzmueller/PycharmProjects/fintuna/fintuna/model/ModelBase.py:56: FutureWarning: suggest_loguniform has been deprecated in v3.0.0. This feature will be removed in v6.0.0. See https://github.com/optuna/optuna/releases/tag/v3.0.0. Use :func:`~optuna.trial.Trial.suggest_float` instead.\n",
      "  'lambda_l2': self.trial.suggest_loguniform('lambda_l2', .01, 10.),\n"
     ]
    },
    {
     "name": "stdout",
     "output_type": "stream",
     "text": [
      "[LightGBM] [Warning] lambda_l1 is set=6.760735134703583, reg_alpha=0.0 will be ignored. Current value: lambda_l1=6.760735134703583\n",
      "[LightGBM] [Warning] lambda_l2 is set=9.138229711873333, reg_lambda=0.0 will be ignored. Current value: lambda_l2=9.138229711873333\n",
      "[LightGBM] [Warning] feature_fraction is set=0.6296374020916407, colsample_bytree=1.0 will be ignored. Current value: feature_fraction=0.6296374020916407\n"
     ]
    },
    {
     "name": "stderr",
     "output_type": "stream",
     "text": [
      "INFO:train:iteration 30/50\n",
      "/Users/markustretzmueller/PycharmProjects/fintuna/fintuna/model/ModelBase.py:55: FutureWarning: suggest_loguniform has been deprecated in v3.0.0. This feature will be removed in v6.0.0. See https://github.com/optuna/optuna/releases/tag/v3.0.0. Use :func:`~optuna.trial.Trial.suggest_float` instead.\n",
      "  'lambda_l1': self.trial.suggest_loguniform('lambda_l1', .01, 10.),\n",
      "/Users/markustretzmueller/PycharmProjects/fintuna/fintuna/model/ModelBase.py:56: FutureWarning: suggest_loguniform has been deprecated in v3.0.0. This feature will be removed in v6.0.0. See https://github.com/optuna/optuna/releases/tag/v3.0.0. Use :func:`~optuna.trial.Trial.suggest_float` instead.\n",
      "  'lambda_l2': self.trial.suggest_loguniform('lambda_l2', .01, 10.),\n"
     ]
    },
    {
     "name": "stdout",
     "output_type": "stream",
     "text": [
      "[LightGBM] [Warning] feature_fraction is set=0.6684037051100861, colsample_bytree=1.0 will be ignored. Current value: feature_fraction=0.6684037051100861\n",
      "[LightGBM] [Warning] lambda_l1 is set=0.33016441304251665, reg_alpha=0.0 will be ignored. Current value: lambda_l1=0.33016441304251665\n",
      "[LightGBM] [Warning] lambda_l2 is set=0.43349084121356646, reg_lambda=0.0 will be ignored. Current value: lambda_l2=0.43349084121356646\n"
     ]
    },
    {
     "name": "stderr",
     "output_type": "stream",
     "text": [
      "INFO:train:iteration 31/50\n",
      "/Users/markustretzmueller/PycharmProjects/fintuna/fintuna/model/ModelBase.py:55: FutureWarning: suggest_loguniform has been deprecated in v3.0.0. This feature will be removed in v6.0.0. See https://github.com/optuna/optuna/releases/tag/v3.0.0. Use :func:`~optuna.trial.Trial.suggest_float` instead.\n",
      "  'lambda_l1': self.trial.suggest_loguniform('lambda_l1', .01, 10.),\n",
      "/Users/markustretzmueller/PycharmProjects/fintuna/fintuna/model/ModelBase.py:56: FutureWarning: suggest_loguniform has been deprecated in v3.0.0. This feature will be removed in v6.0.0. See https://github.com/optuna/optuna/releases/tag/v3.0.0. Use :func:`~optuna.trial.Trial.suggest_float` instead.\n",
      "  'lambda_l2': self.trial.suggest_loguniform('lambda_l2', .01, 10.),\n"
     ]
    },
    {
     "name": "stdout",
     "output_type": "stream",
     "text": [
      "[LightGBM] [Warning] lambda_l1 is set=2.653978943208162, reg_alpha=0.0 will be ignored. Current value: lambda_l1=2.653978943208162\n",
      "[LightGBM] [Warning] lambda_l2 is set=0.1905462655818121, reg_lambda=0.0 will be ignored. Current value: lambda_l2=0.1905462655818121\n",
      "[LightGBM] [Warning] feature_fraction is set=0.6535859699918046, colsample_bytree=1.0 will be ignored. Current value: feature_fraction=0.6535859699918046\n"
     ]
    },
    {
     "name": "stderr",
     "output_type": "stream",
     "text": [
      "INFO:train:iteration 32/50\n",
      "/Users/markustretzmueller/PycharmProjects/fintuna/fintuna/model/ModelBase.py:55: FutureWarning: suggest_loguniform has been deprecated in v3.0.0. This feature will be removed in v6.0.0. See https://github.com/optuna/optuna/releases/tag/v3.0.0. Use :func:`~optuna.trial.Trial.suggest_float` instead.\n",
      "  'lambda_l1': self.trial.suggest_loguniform('lambda_l1', .01, 10.),\n",
      "/Users/markustretzmueller/PycharmProjects/fintuna/fintuna/model/ModelBase.py:56: FutureWarning: suggest_loguniform has been deprecated in v3.0.0. This feature will be removed in v6.0.0. See https://github.com/optuna/optuna/releases/tag/v3.0.0. Use :func:`~optuna.trial.Trial.suggest_float` instead.\n",
      "  'lambda_l2': self.trial.suggest_loguniform('lambda_l2', .01, 10.),\n"
     ]
    },
    {
     "name": "stdout",
     "output_type": "stream",
     "text": [
      "[LightGBM] [Warning] feature_fraction is set=0.9699335351401435, colsample_bytree=1.0 will be ignored. Current value: feature_fraction=0.9699335351401435\n",
      "[LightGBM] [Warning] lambda_l1 is set=0.5227627526435927, reg_alpha=0.0 will be ignored. Current value: lambda_l1=0.5227627526435927\n",
      "[LightGBM] [Warning] lambda_l2 is set=0.06676747113332253, reg_lambda=0.0 will be ignored. Current value: lambda_l2=0.06676747113332253\n"
     ]
    },
    {
     "name": "stderr",
     "output_type": "stream",
     "text": [
      "INFO:train:iteration 33/50\n",
      "/Users/markustretzmueller/PycharmProjects/fintuna/fintuna/model/ModelBase.py:55: FutureWarning: suggest_loguniform has been deprecated in v3.0.0. This feature will be removed in v6.0.0. See https://github.com/optuna/optuna/releases/tag/v3.0.0. Use :func:`~optuna.trial.Trial.suggest_float` instead.\n",
      "  'lambda_l1': self.trial.suggest_loguniform('lambda_l1', .01, 10.),\n",
      "/Users/markustretzmueller/PycharmProjects/fintuna/fintuna/model/ModelBase.py:56: FutureWarning: suggest_loguniform has been deprecated in v3.0.0. This feature will be removed in v6.0.0. See https://github.com/optuna/optuna/releases/tag/v3.0.0. Use :func:`~optuna.trial.Trial.suggest_float` instead.\n",
      "  'lambda_l2': self.trial.suggest_loguniform('lambda_l2', .01, 10.),\n"
     ]
    },
    {
     "name": "stdout",
     "output_type": "stream",
     "text": [
      "[LightGBM] [Warning] lambda_l1 is set=0.015121663116233012, reg_alpha=0.0 will be ignored. Current value: lambda_l1=0.015121663116233012\n",
      "[LightGBM] [Warning] lambda_l2 is set=5.470399527992684, reg_lambda=0.0 will be ignored. Current value: lambda_l2=5.470399527992684\n",
      "[LightGBM] [Warning] feature_fraction is set=0.7512665054120236, colsample_bytree=1.0 will be ignored. Current value: feature_fraction=0.7512665054120236\n"
     ]
    },
    {
     "name": "stderr",
     "output_type": "stream",
     "text": [
      "INFO:train:iteration 34/50\n",
      "/Users/markustretzmueller/PycharmProjects/fintuna/fintuna/model/ModelBase.py:55: FutureWarning: suggest_loguniform has been deprecated in v3.0.0. This feature will be removed in v6.0.0. See https://github.com/optuna/optuna/releases/tag/v3.0.0. Use :func:`~optuna.trial.Trial.suggest_float` instead.\n",
      "  'lambda_l1': self.trial.suggest_loguniform('lambda_l1', .01, 10.),\n",
      "/Users/markustretzmueller/PycharmProjects/fintuna/fintuna/model/ModelBase.py:56: FutureWarning: suggest_loguniform has been deprecated in v3.0.0. This feature will be removed in v6.0.0. See https://github.com/optuna/optuna/releases/tag/v3.0.0. Use :func:`~optuna.trial.Trial.suggest_float` instead.\n",
      "  'lambda_l2': self.trial.suggest_loguniform('lambda_l2', .01, 10.),\n"
     ]
    },
    {
     "name": "stdout",
     "output_type": "stream",
     "text": [
      "[LightGBM] [Warning] lambda_l1 is set=0.04502326015939097, reg_alpha=0.0 will be ignored. Current value: lambda_l1=0.04502326015939097\n",
      "[LightGBM] [Warning] lambda_l2 is set=0.14737346910030358, reg_lambda=0.0 will be ignored. Current value: lambda_l2=0.14737346910030358\n",
      "[LightGBM] [Warning] feature_fraction is set=0.9459911150069116, colsample_bytree=1.0 will be ignored. Current value: feature_fraction=0.9459911150069116\n"
     ]
    },
    {
     "name": "stderr",
     "output_type": "stream",
     "text": [
      "INFO:train:iteration 35/50\n",
      "/Users/markustretzmueller/PycharmProjects/fintuna/fintuna/model/ModelBase.py:55: FutureWarning: suggest_loguniform has been deprecated in v3.0.0. This feature will be removed in v6.0.0. See https://github.com/optuna/optuna/releases/tag/v3.0.0. Use :func:`~optuna.trial.Trial.suggest_float` instead.\n",
      "  'lambda_l1': self.trial.suggest_loguniform('lambda_l1', .01, 10.),\n",
      "/Users/markustretzmueller/PycharmProjects/fintuna/fintuna/model/ModelBase.py:56: FutureWarning: suggest_loguniform has been deprecated in v3.0.0. This feature will be removed in v6.0.0. See https://github.com/optuna/optuna/releases/tag/v3.0.0. Use :func:`~optuna.trial.Trial.suggest_float` instead.\n",
      "  'lambda_l2': self.trial.suggest_loguniform('lambda_l2', .01, 10.),\n"
     ]
    },
    {
     "name": "stdout",
     "output_type": "stream",
     "text": [
      "[LightGBM] [Warning] feature_fraction is set=0.7810164839895336, colsample_bytree=1.0 will be ignored. Current value: feature_fraction=0.7810164839895336\n",
      "[LightGBM] [Warning] lambda_l1 is set=0.02572248877296663, reg_alpha=0.0 will be ignored. Current value: lambda_l1=0.02572248877296663\n",
      "[LightGBM] [Warning] lambda_l2 is set=0.8984968847109527, reg_lambda=0.0 will be ignored. Current value: lambda_l2=0.8984968847109527\n"
     ]
    },
    {
     "name": "stderr",
     "output_type": "stream",
     "text": [
      "INFO:train:iteration 36/50\n",
      "/Users/markustretzmueller/PycharmProjects/fintuna/fintuna/model/ModelBase.py:55: FutureWarning: suggest_loguniform has been deprecated in v3.0.0. This feature will be removed in v6.0.0. See https://github.com/optuna/optuna/releases/tag/v3.0.0. Use :func:`~optuna.trial.Trial.suggest_float` instead.\n",
      "  'lambda_l1': self.trial.suggest_loguniform('lambda_l1', .01, 10.),\n",
      "/Users/markustretzmueller/PycharmProjects/fintuna/fintuna/model/ModelBase.py:56: FutureWarning: suggest_loguniform has been deprecated in v3.0.0. This feature will be removed in v6.0.0. See https://github.com/optuna/optuna/releases/tag/v3.0.0. Use :func:`~optuna.trial.Trial.suggest_float` instead.\n",
      "  'lambda_l2': self.trial.suggest_loguniform('lambda_l2', .01, 10.),\n"
     ]
    },
    {
     "name": "stdout",
     "output_type": "stream",
     "text": [
      "[LightGBM] [Warning] lambda_l1 is set=0.18310579261742424, reg_alpha=0.0 will be ignored. Current value: lambda_l1=0.18310579261742424\n",
      "[LightGBM] [Warning] lambda_l2 is set=0.08060850778109477, reg_lambda=0.0 will be ignored. Current value: lambda_l2=0.08060850778109477\n",
      "[LightGBM] [Warning] feature_fraction is set=0.7219948245708686, colsample_bytree=1.0 will be ignored. Current value: feature_fraction=0.7219948245708686\n"
     ]
    },
    {
     "name": "stderr",
     "output_type": "stream",
     "text": [
      "INFO:train:iteration 37/50\n",
      "/Users/markustretzmueller/PycharmProjects/fintuna/fintuna/model/ModelBase.py:55: FutureWarning: suggest_loguniform has been deprecated in v3.0.0. This feature will be removed in v6.0.0. See https://github.com/optuna/optuna/releases/tag/v3.0.0. Use :func:`~optuna.trial.Trial.suggest_float` instead.\n",
      "  'lambda_l1': self.trial.suggest_loguniform('lambda_l1', .01, 10.),\n",
      "/Users/markustretzmueller/PycharmProjects/fintuna/fintuna/model/ModelBase.py:56: FutureWarning: suggest_loguniform has been deprecated in v3.0.0. This feature will be removed in v6.0.0. See https://github.com/optuna/optuna/releases/tag/v3.0.0. Use :func:`~optuna.trial.Trial.suggest_float` instead.\n",
      "  'lambda_l2': self.trial.suggest_loguniform('lambda_l2', .01, 10.),\n"
     ]
    },
    {
     "name": "stdout",
     "output_type": "stream",
     "text": [
      "[LightGBM] [Warning] lambda_l1 is set=0.7533220922118187, reg_alpha=0.0 will be ignored. Current value: lambda_l1=0.7533220922118187\n",
      "[LightGBM] [Warning] lambda_l2 is set=0.05119381091201545, reg_lambda=0.0 will be ignored. Current value: lambda_l2=0.05119381091201545\n",
      "[LightGBM] [Warning] feature_fraction is set=0.5640286047528091, colsample_bytree=1.0 will be ignored. Current value: feature_fraction=0.5640286047528091\n"
     ]
    },
    {
     "name": "stderr",
     "output_type": "stream",
     "text": [
      "INFO:train:iteration 38/50\n",
      "/Users/markustretzmueller/PycharmProjects/fintuna/fintuna/model/ModelBase.py:55: FutureWarning: suggest_loguniform has been deprecated in v3.0.0. This feature will be removed in v6.0.0. See https://github.com/optuna/optuna/releases/tag/v3.0.0. Use :func:`~optuna.trial.Trial.suggest_float` instead.\n",
      "  'lambda_l1': self.trial.suggest_loguniform('lambda_l1', .01, 10.),\n",
      "/Users/markustretzmueller/PycharmProjects/fintuna/fintuna/model/ModelBase.py:56: FutureWarning: suggest_loguniform has been deprecated in v3.0.0. This feature will be removed in v6.0.0. See https://github.com/optuna/optuna/releases/tag/v3.0.0. Use :func:`~optuna.trial.Trial.suggest_float` instead.\n",
      "  'lambda_l2': self.trial.suggest_loguniform('lambda_l2', .01, 10.),\n"
     ]
    },
    {
     "name": "stdout",
     "output_type": "stream",
     "text": [
      "[LightGBM] [Warning] lambda_l1 is set=0.23828192253045952, reg_alpha=0.0 will be ignored. Current value: lambda_l1=0.23828192253045952\n",
      "[LightGBM] [Warning] lambda_l2 is set=0.023252606654165085, reg_lambda=0.0 will be ignored. Current value: lambda_l2=0.023252606654165085\n",
      "[LightGBM] [Warning] feature_fraction is set=0.9884765415374877, colsample_bytree=1.0 will be ignored. Current value: feature_fraction=0.9884765415374877\n"
     ]
    },
    {
     "name": "stderr",
     "output_type": "stream",
     "text": [
      "INFO:train:iteration 39/50\n",
      "/Users/markustretzmueller/PycharmProjects/fintuna/fintuna/model/ModelBase.py:55: FutureWarning: suggest_loguniform has been deprecated in v3.0.0. This feature will be removed in v6.0.0. See https://github.com/optuna/optuna/releases/tag/v3.0.0. Use :func:`~optuna.trial.Trial.suggest_float` instead.\n",
      "  'lambda_l1': self.trial.suggest_loguniform('lambda_l1', .01, 10.),\n",
      "/Users/markustretzmueller/PycharmProjects/fintuna/fintuna/model/ModelBase.py:56: FutureWarning: suggest_loguniform has been deprecated in v3.0.0. This feature will be removed in v6.0.0. See https://github.com/optuna/optuna/releases/tag/v3.0.0. Use :func:`~optuna.trial.Trial.suggest_float` instead.\n",
      "  'lambda_l2': self.trial.suggest_loguniform('lambda_l2', .01, 10.),\n"
     ]
    },
    {
     "name": "stdout",
     "output_type": "stream",
     "text": [
      "[LightGBM] [Warning] lambda_l1 is set=0.41070942241895336, reg_alpha=0.0 will be ignored. Current value: lambda_l1=0.41070942241895336\n",
      "[LightGBM] [Warning] lambda_l2 is set=0.30733256591604347, reg_lambda=0.0 will be ignored. Current value: lambda_l2=0.30733256591604347\n",
      "[LightGBM] [Warning] feature_fraction is set=0.9284062178794928, colsample_bytree=1.0 will be ignored. Current value: feature_fraction=0.9284062178794928\n"
     ]
    },
    {
     "name": "stderr",
     "output_type": "stream",
     "text": [
      "INFO:train:iteration 40/50\n",
      "/Users/markustretzmueller/PycharmProjects/fintuna/fintuna/model/ModelBase.py:55: FutureWarning: suggest_loguniform has been deprecated in v3.0.0. This feature will be removed in v6.0.0. See https://github.com/optuna/optuna/releases/tag/v3.0.0. Use :func:`~optuna.trial.Trial.suggest_float` instead.\n",
      "  'lambda_l1': self.trial.suggest_loguniform('lambda_l1', .01, 10.),\n",
      "/Users/markustretzmueller/PycharmProjects/fintuna/fintuna/model/ModelBase.py:56: FutureWarning: suggest_loguniform has been deprecated in v3.0.0. This feature will be removed in v6.0.0. See https://github.com/optuna/optuna/releases/tag/v3.0.0. Use :func:`~optuna.trial.Trial.suggest_float` instead.\n",
      "  'lambda_l2': self.trial.suggest_loguniform('lambda_l2', .01, 10.),\n"
     ]
    },
    {
     "name": "stdout",
     "output_type": "stream",
     "text": [
      "[LightGBM] [Warning] lambda_l1 is set=1.1595733489839148, reg_alpha=0.0 will be ignored. Current value: lambda_l1=1.1595733489839148\n",
      "[LightGBM] [Warning] lambda_l2 is set=0.6696468689782727, reg_lambda=0.0 will be ignored. Current value: lambda_l2=0.6696468689782727\n",
      "[LightGBM] [Warning] feature_fraction is set=0.9590522274646237, colsample_bytree=1.0 will be ignored. Current value: feature_fraction=0.9590522274646237\n"
     ]
    },
    {
     "name": "stderr",
     "output_type": "stream",
     "text": [
      "INFO:train:iteration 41/50\n",
      "/Users/markustretzmueller/PycharmProjects/fintuna/fintuna/model/ModelBase.py:55: FutureWarning: suggest_loguniform has been deprecated in v3.0.0. This feature will be removed in v6.0.0. See https://github.com/optuna/optuna/releases/tag/v3.0.0. Use :func:`~optuna.trial.Trial.suggest_float` instead.\n",
      "  'lambda_l1': self.trial.suggest_loguniform('lambda_l1', .01, 10.),\n",
      "/Users/markustretzmueller/PycharmProjects/fintuna/fintuna/model/ModelBase.py:56: FutureWarning: suggest_loguniform has been deprecated in v3.0.0. This feature will be removed in v6.0.0. See https://github.com/optuna/optuna/releases/tag/v3.0.0. Use :func:`~optuna.trial.Trial.suggest_float` instead.\n",
      "  'lambda_l2': self.trial.suggest_loguniform('lambda_l2', .01, 10.),\n"
     ]
    },
    {
     "name": "stdout",
     "output_type": "stream",
     "text": [
      "[LightGBM] [Warning] lambda_l1 is set=0.020947275190136852, reg_alpha=0.0 will be ignored. Current value: lambda_l1=0.020947275190136852\n",
      "[LightGBM] [Warning] lambda_l2 is set=0.5195656186656109, reg_lambda=0.0 will be ignored. Current value: lambda_l2=0.5195656186656109\n",
      "[LightGBM] [Warning] feature_fraction is set=0.9118762713162725, colsample_bytree=1.0 will be ignored. Current value: feature_fraction=0.9118762713162725\n"
     ]
    },
    {
     "name": "stderr",
     "output_type": "stream",
     "text": [
      "INFO:train:iteration 42/50\n",
      "/Users/markustretzmueller/PycharmProjects/fintuna/fintuna/model/ModelBase.py:55: FutureWarning: suggest_loguniform has been deprecated in v3.0.0. This feature will be removed in v6.0.0. See https://github.com/optuna/optuna/releases/tag/v3.0.0. Use :func:`~optuna.trial.Trial.suggest_float` instead.\n",
      "  'lambda_l1': self.trial.suggest_loguniform('lambda_l1', .01, 10.),\n",
      "/Users/markustretzmueller/PycharmProjects/fintuna/fintuna/model/ModelBase.py:56: FutureWarning: suggest_loguniform has been deprecated in v3.0.0. This feature will be removed in v6.0.0. See https://github.com/optuna/optuna/releases/tag/v3.0.0. Use :func:`~optuna.trial.Trial.suggest_float` instead.\n",
      "  'lambda_l2': self.trial.suggest_loguniform('lambda_l2', .01, 10.),\n"
     ]
    },
    {
     "name": "stdout",
     "output_type": "stream",
     "text": [
      "[LightGBM] [Warning] lambda_l1 is set=0.9383840283116528, reg_alpha=0.0 will be ignored. Current value: lambda_l1=0.9383840283116528\n",
      "[LightGBM] [Warning] lambda_l2 is set=2.0254445222817536, reg_lambda=0.0 will be ignored. Current value: lambda_l2=2.0254445222817536\n",
      "[LightGBM] [Warning] feature_fraction is set=0.9391671585786124, colsample_bytree=1.0 will be ignored. Current value: feature_fraction=0.9391671585786124\n"
     ]
    },
    {
     "name": "stderr",
     "output_type": "stream",
     "text": [
      "INFO:train:iteration 43/50\n",
      "/Users/markustretzmueller/PycharmProjects/fintuna/fintuna/model/ModelBase.py:55: FutureWarning: suggest_loguniform has been deprecated in v3.0.0. This feature will be removed in v6.0.0. See https://github.com/optuna/optuna/releases/tag/v3.0.0. Use :func:`~optuna.trial.Trial.suggest_float` instead.\n",
      "  'lambda_l1': self.trial.suggest_loguniform('lambda_l1', .01, 10.),\n",
      "/Users/markustretzmueller/PycharmProjects/fintuna/fintuna/model/ModelBase.py:56: FutureWarning: suggest_loguniform has been deprecated in v3.0.0. This feature will be removed in v6.0.0. See https://github.com/optuna/optuna/releases/tag/v3.0.0. Use :func:`~optuna.trial.Trial.suggest_float` instead.\n",
      "  'lambda_l2': self.trial.suggest_loguniform('lambda_l2', .01, 10.),\n"
     ]
    },
    {
     "name": "stdout",
     "output_type": "stream",
     "text": [
      "[LightGBM] [Warning] lambda_l1 is set=1.4272846969952424, reg_alpha=0.0 will be ignored. Current value: lambda_l1=1.4272846969952424\n",
      "[LightGBM] [Warning] lambda_l2 is set=1.068104593997113, reg_lambda=0.0 will be ignored. Current value: lambda_l2=1.068104593997113\n",
      "[LightGBM] [Warning] feature_fraction is set=0.9722479948030448, colsample_bytree=1.0 will be ignored. Current value: feature_fraction=0.9722479948030448\n"
     ]
    },
    {
     "name": "stderr",
     "output_type": "stream",
     "text": [
      "INFO:train:iteration 44/50\n",
      "/Users/markustretzmueller/PycharmProjects/fintuna/fintuna/model/ModelBase.py:55: FutureWarning: suggest_loguniform has been deprecated in v3.0.0. This feature will be removed in v6.0.0. See https://github.com/optuna/optuna/releases/tag/v3.0.0. Use :func:`~optuna.trial.Trial.suggest_float` instead.\n",
      "  'lambda_l1': self.trial.suggest_loguniform('lambda_l1', .01, 10.),\n",
      "/Users/markustretzmueller/PycharmProjects/fintuna/fintuna/model/ModelBase.py:56: FutureWarning: suggest_loguniform has been deprecated in v3.0.0. This feature will be removed in v6.0.0. See https://github.com/optuna/optuna/releases/tag/v3.0.0. Use :func:`~optuna.trial.Trial.suggest_float` instead.\n",
      "  'lambda_l2': self.trial.suggest_loguniform('lambda_l2', .01, 10.),\n"
     ]
    },
    {
     "name": "stdout",
     "output_type": "stream",
     "text": [
      "[LightGBM] [Warning] lambda_l1 is set=9.315711744644165, reg_alpha=0.0 will be ignored. Current value: lambda_l1=9.315711744644165\n",
      "[LightGBM] [Warning] lambda_l2 is set=0.2177619006100392, reg_lambda=0.0 will be ignored. Current value: lambda_l2=0.2177619006100392\n",
      "[LightGBM] [Warning] feature_fraction is set=0.6438775603016821, colsample_bytree=1.0 will be ignored. Current value: feature_fraction=0.6438775603016821\n"
     ]
    },
    {
     "name": "stderr",
     "output_type": "stream",
     "text": [
      "INFO:train:iteration 45/50\n",
      "/Users/markustretzmueller/PycharmProjects/fintuna/fintuna/model/ModelBase.py:55: FutureWarning: suggest_loguniform has been deprecated in v3.0.0. This feature will be removed in v6.0.0. See https://github.com/optuna/optuna/releases/tag/v3.0.0. Use :func:`~optuna.trial.Trial.suggest_float` instead.\n",
      "  'lambda_l1': self.trial.suggest_loguniform('lambda_l1', .01, 10.),\n",
      "/Users/markustretzmueller/PycharmProjects/fintuna/fintuna/model/ModelBase.py:56: FutureWarning: suggest_loguniform has been deprecated in v3.0.0. This feature will be removed in v6.0.0. See https://github.com/optuna/optuna/releases/tag/v3.0.0. Use :func:`~optuna.trial.Trial.suggest_float` instead.\n",
      "  'lambda_l2': self.trial.suggest_loguniform('lambda_l2', .01, 10.),\n"
     ]
    },
    {
     "name": "stdout",
     "output_type": "stream",
     "text": [
      "[LightGBM] [Warning] feature_fraction is set=0.8905704559663584, colsample_bytree=1.0 will be ignored. Current value: feature_fraction=0.8905704559663584\n",
      "[LightGBM] [Warning] lambda_l1 is set=0.4802097879362903, reg_alpha=0.0 will be ignored. Current value: lambda_l1=0.4802097879362903\n",
      "[LightGBM] [Warning] lambda_l2 is set=0.028533133844837712, reg_lambda=0.0 will be ignored. Current value: lambda_l2=0.028533133844837712\n"
     ]
    },
    {
     "name": "stderr",
     "output_type": "stream",
     "text": [
      "INFO:train:iteration 46/50\n",
      "/Users/markustretzmueller/PycharmProjects/fintuna/fintuna/model/ModelBase.py:55: FutureWarning: suggest_loguniform has been deprecated in v3.0.0. This feature will be removed in v6.0.0. See https://github.com/optuna/optuna/releases/tag/v3.0.0. Use :func:`~optuna.trial.Trial.suggest_float` instead.\n",
      "  'lambda_l1': self.trial.suggest_loguniform('lambda_l1', .01, 10.),\n",
      "/Users/markustretzmueller/PycharmProjects/fintuna/fintuna/model/ModelBase.py:56: FutureWarning: suggest_loguniform has been deprecated in v3.0.0. This feature will be removed in v6.0.0. See https://github.com/optuna/optuna/releases/tag/v3.0.0. Use :func:`~optuna.trial.Trial.suggest_float` instead.\n",
      "  'lambda_l2': self.trial.suggest_loguniform('lambda_l2', .01, 10.),\n"
     ]
    },
    {
     "name": "stdout",
     "output_type": "stream",
     "text": [
      "[LightGBM] [Warning] lambda_l1 is set=2.1588799622436303, reg_alpha=0.0 will be ignored. Current value: lambda_l1=2.1588799622436303\n",
      "[LightGBM] [Warning] lambda_l2 is set=0.2789932178544681, reg_lambda=0.0 will be ignored. Current value: lambda_l2=0.2789932178544681\n",
      "[LightGBM] [Warning] feature_fraction is set=0.922602505028141, colsample_bytree=1.0 will be ignored. Current value: feature_fraction=0.922602505028141\n"
     ]
    },
    {
     "name": "stderr",
     "output_type": "stream",
     "text": [
      "INFO:train:iteration 47/50\n",
      "/Users/markustretzmueller/PycharmProjects/fintuna/fintuna/model/ModelBase.py:55: FutureWarning: suggest_loguniform has been deprecated in v3.0.0. This feature will be removed in v6.0.0. See https://github.com/optuna/optuna/releases/tag/v3.0.0. Use :func:`~optuna.trial.Trial.suggest_float` instead.\n",
      "  'lambda_l1': self.trial.suggest_loguniform('lambda_l1', .01, 10.),\n",
      "/Users/markustretzmueller/PycharmProjects/fintuna/fintuna/model/ModelBase.py:56: FutureWarning: suggest_loguniform has been deprecated in v3.0.0. This feature will be removed in v6.0.0. See https://github.com/optuna/optuna/releases/tag/v3.0.0. Use :func:`~optuna.trial.Trial.suggest_float` instead.\n",
      "  'lambda_l2': self.trial.suggest_loguniform('lambda_l2', .01, 10.),\n"
     ]
    },
    {
     "name": "stdout",
     "output_type": "stream",
     "text": [
      "[LightGBM] [Warning] lambda_l1 is set=1.657429616753348, reg_alpha=0.0 will be ignored. Current value: lambda_l1=1.657429616753348\n",
      "[LightGBM] [Warning] lambda_l2 is set=0.3754611758343912, reg_lambda=0.0 will be ignored. Current value: lambda_l2=0.3754611758343912\n",
      "[LightGBM] [Warning] feature_fraction is set=0.9520376226846848, colsample_bytree=1.0 will be ignored. Current value: feature_fraction=0.9520376226846848\n"
     ]
    },
    {
     "name": "stderr",
     "output_type": "stream",
     "text": [
      "INFO:train:iteration 48/50\n",
      "/Users/markustretzmueller/PycharmProjects/fintuna/fintuna/model/ModelBase.py:55: FutureWarning: suggest_loguniform has been deprecated in v3.0.0. This feature will be removed in v6.0.0. See https://github.com/optuna/optuna/releases/tag/v3.0.0. Use :func:`~optuna.trial.Trial.suggest_float` instead.\n",
      "  'lambda_l1': self.trial.suggest_loguniform('lambda_l1', .01, 10.),\n",
      "/Users/markustretzmueller/PycharmProjects/fintuna/fintuna/model/ModelBase.py:56: FutureWarning: suggest_loguniform has been deprecated in v3.0.0. This feature will be removed in v6.0.0. See https://github.com/optuna/optuna/releases/tag/v3.0.0. Use :func:`~optuna.trial.Trial.suggest_float` instead.\n",
      "  'lambda_l2': self.trial.suggest_loguniform('lambda_l2', .01, 10.),\n"
     ]
    },
    {
     "name": "stdout",
     "output_type": "stream",
     "text": [
      "[LightGBM] [Warning] lambda_l1 is set=0.3667495237589213, reg_alpha=0.0 will be ignored. Current value: lambda_l1=0.3667495237589213\n",
      "[LightGBM] [Warning] lambda_l2 is set=0.05770281247224095, reg_lambda=0.0 will be ignored. Current value: lambda_l2=0.05770281247224095\n",
      "[LightGBM] [Warning] feature_fraction is set=0.980312952957165, colsample_bytree=1.0 will be ignored. Current value: feature_fraction=0.980312952957165\n"
     ]
    },
    {
     "name": "stderr",
     "output_type": "stream",
     "text": [
      "INFO:train:iteration 49/50\n",
      "/Users/markustretzmueller/PycharmProjects/fintuna/fintuna/model/ModelBase.py:55: FutureWarning: suggest_loguniform has been deprecated in v3.0.0. This feature will be removed in v6.0.0. See https://github.com/optuna/optuna/releases/tag/v3.0.0. Use :func:`~optuna.trial.Trial.suggest_float` instead.\n",
      "  'lambda_l1': self.trial.suggest_loguniform('lambda_l1', .01, 10.),\n",
      "/Users/markustretzmueller/PycharmProjects/fintuna/fintuna/model/ModelBase.py:56: FutureWarning: suggest_loguniform has been deprecated in v3.0.0. This feature will be removed in v6.0.0. See https://github.com/optuna/optuna/releases/tag/v3.0.0. Use :func:`~optuna.trial.Trial.suggest_float` instead.\n",
      "  'lambda_l2': self.trial.suggest_loguniform('lambda_l2', .01, 10.),\n"
     ]
    },
    {
     "name": "stdout",
     "output_type": "stream",
     "text": [
      "[LightGBM] [Warning] lambda_l1 is set=0.28511904927111914, reg_alpha=0.0 will be ignored. Current value: lambda_l1=0.28511904927111914\n",
      "[LightGBM] [Warning] lambda_l2 is set=0.0708337255781908, reg_lambda=0.0 will be ignored. Current value: lambda_l2=0.0708337255781908\n",
      "[LightGBM] [Warning] feature_fraction is set=0.5180140337055933, colsample_bytree=1.0 will be ignored. Current value: feature_fraction=0.5180140337055933\n"
     ]
    },
    {
     "name": "stderr",
     "output_type": "stream",
     "text": [
      "INFO:train:iteration 50/50\n",
      "/Users/markustretzmueller/PycharmProjects/fintuna/fintuna/model/ModelBase.py:55: FutureWarning: suggest_loguniform has been deprecated in v3.0.0. This feature will be removed in v6.0.0. See https://github.com/optuna/optuna/releases/tag/v3.0.0. Use :func:`~optuna.trial.Trial.suggest_float` instead.\n",
      "  'lambda_l1': self.trial.suggest_loguniform('lambda_l1', .01, 10.),\n",
      "/Users/markustretzmueller/PycharmProjects/fintuna/fintuna/model/ModelBase.py:56: FutureWarning: suggest_loguniform has been deprecated in v3.0.0. This feature will be removed in v6.0.0. See https://github.com/optuna/optuna/releases/tag/v3.0.0. Use :func:`~optuna.trial.Trial.suggest_float` instead.\n",
      "  'lambda_l2': self.trial.suggest_loguniform('lambda_l2', .01, 10.),\n"
     ]
    },
    {
     "name": "stdout",
     "output_type": "stream",
     "text": [
      "[LightGBM] [Warning] lambda_l1 is set=0.601711662611902, reg_alpha=0.0 will be ignored. Current value: lambda_l1=0.601711662611902\n",
      "[LightGBM] [Warning] lambda_l2 is set=0.0944107969183124, reg_lambda=0.0 will be ignored. Current value: lambda_l2=0.0944107969183124\n",
      "[LightGBM] [Warning] feature_fraction is set=0.5958996087451982, colsample_bytree=1.0 will be ignored. Current value: feature_fraction=0.5958996087451982\n"
     ]
    },
    {
     "name": "stderr",
     "output_type": "stream",
     "text": [
      "/Users/markustretzmueller/PycharmProjects/fintuna/fintuna/model/ModelBase.py:55: FutureWarning: suggest_loguniform has been deprecated in v3.0.0. This feature will be removed in v6.0.0. See https://github.com/optuna/optuna/releases/tag/v3.0.0. Use :func:`~optuna.trial.FrozenTrial.suggest_float` instead.\n",
      "  'lambda_l1': self.trial.suggest_loguniform('lambda_l1', .01, 10.),\n",
      "/Users/markustretzmueller/PycharmProjects/fintuna/fintuna/model/ModelBase.py:56: FutureWarning: suggest_loguniform has been deprecated in v3.0.0. This feature will be removed in v6.0.0. See https://github.com/optuna/optuna/releases/tag/v3.0.0. Use :func:`~optuna.trial.FrozenTrial.suggest_float` instead.\n",
      "  'lambda_l2': self.trial.suggest_loguniform('lambda_l2', .01, 10.),\n"
     ]
    },
    {
     "name": "stdout",
     "output_type": "stream",
     "text": [
      "[LightGBM] [Warning] feature_fraction is set=0.9818313802505146, colsample_bytree=1.0 will be ignored. Current value: feature_fraction=0.9818313802505146\n",
      "[LightGBM] [Warning] lambda_l1 is set=0.8663279761354559, reg_alpha=0.0 will be ignored. Current value: lambda_l1=0.8663279761354559\n",
      "[LightGBM] [Warning] lambda_l2 is set=0.20547625125911342, reg_lambda=0.0 will be ignored. Current value: lambda_l2=0.20547625125911342\n"
     ]
    },
    {
     "name": "stderr",
     "output_type": "stream",
     "text": [
      "/Users/markustretzmueller/PycharmProjects/fintuna/fintuna/model/ModelBase.py:55: FutureWarning: suggest_loguniform has been deprecated in v3.0.0. This feature will be removed in v6.0.0. See https://github.com/optuna/optuna/releases/tag/v3.0.0. Use :func:`~optuna.trial.FrozenTrial.suggest_float` instead.\n",
      "  'lambda_l1': self.trial.suggest_loguniform('lambda_l1', .01, 10.),\n",
      "/Users/markustretzmueller/PycharmProjects/fintuna/fintuna/model/ModelBase.py:56: FutureWarning: suggest_loguniform has been deprecated in v3.0.0. This feature will be removed in v6.0.0. See https://github.com/optuna/optuna/releases/tag/v3.0.0. Use :func:`~optuna.trial.FrozenTrial.suggest_float` instead.\n",
      "  'lambda_l2': self.trial.suggest_loguniform('lambda_l2', .01, 10.),\n",
      "/Users/markustretzmueller/PycharmProjects/fintuna/fintuna/model/ModelBase.py:55: FutureWarning: suggest_loguniform has been deprecated in v3.0.0. This feature will be removed in v6.0.0. See https://github.com/optuna/optuna/releases/tag/v3.0.0. Use :func:`~optuna.trial.FrozenTrial.suggest_float` instead.\n",
      "  'lambda_l1': self.trial.suggest_loguniform('lambda_l1', .01, 10.),\n",
      "/Users/markustretzmueller/PycharmProjects/fintuna/fintuna/model/ModelBase.py:56: FutureWarning: suggest_loguniform has been deprecated in v3.0.0. This feature will be removed in v6.0.0. See https://github.com/optuna/optuna/releases/tag/v3.0.0. Use :func:`~optuna.trial.FrozenTrial.suggest_float` instead.\n",
      "  'lambda_l2': self.trial.suggest_loguniform('lambda_l2', .01, 10.),\n",
      "/Users/markustretzmueller/PycharmProjects/fintuna/fintuna/model/ModelBase.py:55: FutureWarning: suggest_loguniform has been deprecated in v3.0.0. This feature will be removed in v6.0.0. See https://github.com/optuna/optuna/releases/tag/v3.0.0. Use :func:`~optuna.trial.FrozenTrial.suggest_float` instead.\n",
      "  'lambda_l1': self.trial.suggest_loguniform('lambda_l1', .01, 10.),\n",
      "/Users/markustretzmueller/PycharmProjects/fintuna/fintuna/model/ModelBase.py:56: FutureWarning: suggest_loguniform has been deprecated in v3.0.0. This feature will be removed in v6.0.0. See https://github.com/optuna/optuna/releases/tag/v3.0.0. Use :func:`~optuna.trial.FrozenTrial.suggest_float` instead.\n",
      "  'lambda_l2': self.trial.suggest_loguniform('lambda_l2', .01, 10.),\n"
     ]
    },
    {
     "data": {
      "image/png": "[encoded data removed]",
      "text/plain": [
       "<Figure size 1000x600 with 1 Axes>"
      ]
     },
     "metadata": {},
     "output_type": "display_data"
    },
    {
     "name": "stderr",
     "output_type": "stream",
     "text": [
      "INFO:train:selecting best out-of-sample models\n",
      "/Users/markustretzmueller/PycharmProjects/fintuna/fintuna/model/ModelBase.py:55: FutureWarning: suggest_loguniform has been deprecated in v3.0.0. This feature will be removed in v6.0.0. See https://github.com/optuna/optuna/releases/tag/v3.0.0. Use :func:`~optuna.trial.FrozenTrial.suggest_float` instead.\n",
      "  'lambda_l1': self.trial.suggest_loguniform('lambda_l1', .01, 10.),\n",
      "/Users/markustretzmueller/PycharmProjects/fintuna/fintuna/model/ModelBase.py:56: FutureWarning: suggest_loguniform has been deprecated in v3.0.0. This feature will be removed in v6.0.0. See https://github.com/optuna/optuna/releases/tag/v3.0.0. Use :func:`~optuna.trial.FrozenTrial.suggest_float` instead.\n",
      "  'lambda_l2': self.trial.suggest_loguniform('lambda_l2', .01, 10.),\n"
     ]
    },
    {
     "name": "stdout",
     "output_type": "stream",
     "text": [
      "[LightGBM] [Warning] feature_fraction is set=0.9818313802505146, colsample_bytree=1.0 will be ignored. Current value: feature_fraction=0.9818313802505146\n",
      "[LightGBM] [Warning] lambda_l1 is set=0.8663279761354559, reg_alpha=0.0 will be ignored. Current value: lambda_l1=0.8663279761354559\n",
      "[LightGBM] [Warning] lambda_l2 is set=0.20547625125911342, reg_lambda=0.0 will be ignored. Current value: lambda_l2=0.20547625125911342\n"
     ]
    },
    {
     "name": "stderr",
     "output_type": "stream",
     "text": [
      "INFO:train:out-of-sample performance: 0.3473594251129811\n",
      "/Users/markustretzmueller/PycharmProjects/fintuna/fintuna/model/ModelBase.py:55: FutureWarning: suggest_loguniform has been deprecated in v3.0.0. This feature will be removed in v6.0.0. See https://github.com/optuna/optuna/releases/tag/v3.0.0. Use :func:`~optuna.trial.FrozenTrial.suggest_float` instead.\n",
      "  'lambda_l1': self.trial.suggest_loguniform('lambda_l1', .01, 10.),\n",
      "/Users/markustretzmueller/PycharmProjects/fintuna/fintuna/model/ModelBase.py:56: FutureWarning: suggest_loguniform has been deprecated in v3.0.0. This feature will be removed in v6.0.0. See https://github.com/optuna/optuna/releases/tag/v3.0.0. Use :func:`~optuna.trial.FrozenTrial.suggest_float` instead.\n",
      "  'lambda_l2': self.trial.suggest_loguniform('lambda_l2', .01, 10.),\n"
     ]
    },
    {
     "name": "stdout",
     "output_type": "stream",
     "text": [
      "[LightGBM] [Warning] feature_fraction is set=0.9818313802505146, colsample_bytree=1.0 will be ignored. Current value: feature_fraction=0.9818313802505146\n",
      "[LightGBM] [Warning] lambda_l1 is set=0.8663279761354559, reg_alpha=0.0 will be ignored. Current value: lambda_l1=0.8663279761354559\n",
      "[LightGBM] [Warning] lambda_l2 is set=0.20547625125911342, reg_lambda=0.0 will be ignored. Current value: lambda_l2=0.20547625125911342\n"
     ]
    },
    {
     "name": "stderr",
     "output_type": "stream",
     "text": [
      "INFO:train:out-of-sample performance: 0.0257106231021691\n",
      "/Users/markustretzmueller/PycharmProjects/fintuna/fintuna/model/ModelBase.py:55: FutureWarning: suggest_loguniform has been deprecated in v3.0.0. This feature will be removed in v6.0.0. See https://github.com/optuna/optuna/releases/tag/v3.0.0. Use :func:`~optuna.trial.FrozenTrial.suggest_float` instead.\n",
      "  'lambda_l1': self.trial.suggest_loguniform('lambda_l1', .01, 10.),\n",
      "/Users/markustretzmueller/PycharmProjects/fintuna/fintuna/model/ModelBase.py:56: FutureWarning: suggest_loguniform has been deprecated in v3.0.0. This feature will be removed in v6.0.0. See https://github.com/optuna/optuna/releases/tag/v3.0.0. Use :func:`~optuna.trial.FrozenTrial.suggest_float` instead.\n",
      "  'lambda_l2': self.trial.suggest_loguniform('lambda_l2', .01, 10.),\n"
     ]
    },
    {
     "name": "stdout",
     "output_type": "stream",
     "text": [
      "[LightGBM] [Warning] feature_fraction is set=0.9818313802505146, colsample_bytree=1.0 will be ignored. Current value: feature_fraction=0.9818313802505146\n",
      "[LightGBM] [Warning] lambda_l1 is set=0.8663279761354559, reg_alpha=0.0 will be ignored. Current value: lambda_l1=0.8663279761354559\n",
      "[LightGBM] [Warning] lambda_l2 is set=0.20547625125911342, reg_lambda=0.0 will be ignored. Current value: lambda_l2=0.20547625125911342\n"
     ]
    },
    {
     "name": "stderr",
     "output_type": "stream",
     "text": [
      "INFO:train:out-of-sample performance: 0.2276692070114571\n",
      "/Users/markustretzmueller/PycharmProjects/fintuna/fintuna/model/ModelBase.py:55: FutureWarning: suggest_loguniform has been deprecated in v3.0.0. This feature will be removed in v6.0.0. See https://github.com/optuna/optuna/releases/tag/v3.0.0. Use :func:`~optuna.trial.FrozenTrial.suggest_float` instead.\n",
      "  'lambda_l1': self.trial.suggest_loguniform('lambda_l1', .01, 10.),\n",
      "/Users/markustretzmueller/PycharmProjects/fintuna/fintuna/model/ModelBase.py:56: FutureWarning: suggest_loguniform has been deprecated in v3.0.0. This feature will be removed in v6.0.0. See https://github.com/optuna/optuna/releases/tag/v3.0.0. Use :func:`~optuna.trial.FrozenTrial.suggest_float` instead.\n",
      "  'lambda_l2': self.trial.suggest_loguniform('lambda_l2', .01, 10.),\n"
     ]
    },
    {
     "name": "stdout",
     "output_type": "stream",
     "text": [
      "[LightGBM] [Warning] lambda_l1 is set=0.513558960650023, reg_alpha=0.0 will be ignored. Current value: lambda_l1=0.513558960650023\n",
      "[LightGBM] [Warning] lambda_l2 is set=0.20692098656538346, reg_lambda=0.0 will be ignored. Current value: lambda_l2=0.20692098656538346\n",
      "[LightGBM] [Warning] feature_fraction is set=0.551022405374014, colsample_bytree=1.0 will be ignored. Current value: feature_fraction=0.551022405374014\n"
     ]
    },
    {
     "name": "stderr",
     "output_type": "stream",
     "text": [
      "INFO:train:out-of-sample performance: 0.1479427913997533\n",
      "/Users/markustretzmueller/PycharmProjects/fintuna/fintuna/model/ModelBase.py:55: FutureWarning: suggest_loguniform has been deprecated in v3.0.0. This feature will be removed in v6.0.0. See https://github.com/optuna/optuna/releases/tag/v3.0.0. Use :func:`~optuna.trial.FrozenTrial.suggest_float` instead.\n",
      "  'lambda_l1': self.trial.suggest_loguniform('lambda_l1', .01, 10.),\n",
      "/Users/markustretzmueller/PycharmProjects/fintuna/fintuna/model/ModelBase.py:56: FutureWarning: suggest_loguniform has been deprecated in v3.0.0. This feature will be removed in v6.0.0. See https://github.com/optuna/optuna/releases/tag/v3.0.0. Use :func:`~optuna.trial.FrozenTrial.suggest_float` instead.\n",
      "  'lambda_l2': self.trial.suggest_loguniform('lambda_l2', .01, 10.),\n"
     ]
    },
    {
     "name": "stdout",
     "output_type": "stream",
     "text": [
      "[LightGBM] [Warning] lambda_l1 is set=0.022939802981311864, reg_alpha=0.0 will be ignored. Current value: lambda_l1=0.022939802981311864\n",
      "[LightGBM] [Warning] lambda_l2 is set=0.07734292502064648, reg_lambda=0.0 will be ignored. Current value: lambda_l2=0.07734292502064648\n",
      "[LightGBM] [Warning] feature_fraction is set=0.658991589696988, colsample_bytree=1.0 will be ignored. Current value: feature_fraction=0.658991589696988\n"
     ]
    },
    {
     "name": "stderr",
     "output_type": "stream",
     "text": [
      "INFO:train:out-of-sample performance: 0.08082466498831553\n",
      "/Users/markustretzmueller/PycharmProjects/fintuna/fintuna/model/ModelBase.py:55: FutureWarning: suggest_loguniform has been deprecated in v3.0.0. This feature will be removed in v6.0.0. See https://github.com/optuna/optuna/releases/tag/v3.0.0. Use :func:`~optuna.trial.FrozenTrial.suggest_float` instead.\n",
      "  'lambda_l1': self.trial.suggest_loguniform('lambda_l1', .01, 10.),\n",
      "/Users/markustretzmueller/PycharmProjects/fintuna/fintuna/model/ModelBase.py:56: FutureWarning: suggest_loguniform has been deprecated in v3.0.0. This feature will be removed in v6.0.0. See https://github.com/optuna/optuna/releases/tag/v3.0.0. Use :func:`~optuna.trial.FrozenTrial.suggest_float` instead.\n",
      "  'lambda_l2': self.trial.suggest_loguniform('lambda_l2', .01, 10.),\n"
     ]
    },
    {
     "name": "stdout",
     "output_type": "stream",
     "text": [
      "[LightGBM] [Warning] lambda_l1 is set=0.022939802981311864, reg_alpha=0.0 will be ignored. Current value: lambda_l1=0.022939802981311864\n",
      "[LightGBM] [Warning] lambda_l2 is set=0.07734292502064648, reg_lambda=0.0 will be ignored. Current value: lambda_l2=0.07734292502064648\n",
      "[LightGBM] [Warning] feature_fraction is set=0.658991589696988, colsample_bytree=1.0 will be ignored. Current value: feature_fraction=0.658991589696988\n"
     ]
    },
    {
     "name": "stderr",
     "output_type": "stream",
     "text": [
      "INFO:train:out-of-sample performance: 0.08082466498831553\n",
      "/Users/markustretzmueller/PycharmProjects/fintuna/fintuna/model/ModelBase.py:55: FutureWarning: suggest_loguniform has been deprecated in v3.0.0. This feature will be removed in v6.0.0. See https://github.com/optuna/optuna/releases/tag/v3.0.0. Use :func:`~optuna.trial.FrozenTrial.suggest_float` instead.\n",
      "  'lambda_l1': self.trial.suggest_loguniform('lambda_l1', .01, 10.),\n",
      "/Users/markustretzmueller/PycharmProjects/fintuna/fintuna/model/ModelBase.py:56: FutureWarning: suggest_loguniform has been deprecated in v3.0.0. This feature will be removed in v6.0.0. See https://github.com/optuna/optuna/releases/tag/v3.0.0. Use :func:`~optuna.trial.FrozenTrial.suggest_float` instead.\n",
      "  'lambda_l2': self.trial.suggest_loguniform('lambda_l2', .01, 10.),\n"
     ]
    },
    {
     "name": "stdout",
     "output_type": "stream",
     "text": [
      "[LightGBM] [Warning] lambda_l1 is set=0.022939802981311864, reg_alpha=0.0 will be ignored. Current value: lambda_l1=0.022939802981311864\n",
      "[LightGBM] [Warning] lambda_l2 is set=0.07734292502064648, reg_lambda=0.0 will be ignored. Current value: lambda_l2=0.07734292502064648\n",
      "[LightGBM] [Warning] feature_fraction is set=0.658991589696988, colsample_bytree=1.0 will be ignored. Current value: feature_fraction=0.658991589696988\n"
     ]
    },
    {
     "name": "stderr",
     "output_type": "stream",
     "text": [
      "INFO:train:out-of-sample performance: -0.013351881401336689\n",
      "/Users/markustretzmueller/PycharmProjects/fintuna/fintuna/model/ModelBase.py:55: FutureWarning: suggest_loguniform has been deprecated in v3.0.0. This feature will be removed in v6.0.0. See https://github.com/optuna/optuna/releases/tag/v3.0.0. Use :func:`~optuna.trial.FrozenTrial.suggest_float` instead.\n",
      "  'lambda_l1': self.trial.suggest_loguniform('lambda_l1', .01, 10.),\n",
      "/Users/markustretzmueller/PycharmProjects/fintuna/fintuna/model/ModelBase.py:56: FutureWarning: suggest_loguniform has been deprecated in v3.0.0. This feature will be removed in v6.0.0. See https://github.com/optuna/optuna/releases/tag/v3.0.0. Use :func:`~optuna.trial.FrozenTrial.suggest_float` instead.\n",
      "  'lambda_l2': self.trial.suggest_loguniform('lambda_l2', .01, 10.),\n"
     ]
    },
    {
     "name": "stdout",
     "output_type": "stream",
     "text": [
      "[LightGBM] [Warning] feature_fraction is set=0.6419740102674933, colsample_bytree=1.0 will be ignored. Current value: feature_fraction=0.6419740102674933\n",
      "[LightGBM] [Warning] lambda_l1 is set=0.15780015740069836, reg_alpha=0.0 will be ignored. Current value: lambda_l1=0.15780015740069836\n",
      "[LightGBM] [Warning] lambda_l2 is set=0.01339296537303129, reg_lambda=0.0 will be ignored. Current value: lambda_l2=0.01339296537303129\n"
     ]
    },
    {
     "name": "stderr",
     "output_type": "stream",
     "text": [
      "INFO:train:out-of-sample performance: 0.01762750260656476\n",
      "/Users/markustretzmueller/PycharmProjects/fintuna/fintuna/model/ModelBase.py:55: FutureWarning: suggest_loguniform has been deprecated in v3.0.0. This feature will be removed in v6.0.0. See https://github.com/optuna/optuna/releases/tag/v3.0.0. Use :func:`~optuna.trial.FrozenTrial.suggest_float` instead.\n",
      "  'lambda_l1': self.trial.suggest_loguniform('lambda_l1', .01, 10.),\n",
      "/Users/markustretzmueller/PycharmProjects/fintuna/fintuna/model/ModelBase.py:56: FutureWarning: suggest_loguniform has been deprecated in v3.0.0. This feature will be removed in v6.0.0. See https://github.com/optuna/optuna/releases/tag/v3.0.0. Use :func:`~optuna.trial.FrozenTrial.suggest_float` instead.\n",
      "  'lambda_l2': self.trial.suggest_loguniform('lambda_l2', .01, 10.),\n"
     ]
    },
    {
     "name": "stdout",
     "output_type": "stream",
     "text": [
      "[LightGBM] [Warning] lambda_l1 is set=1.6016593793330114, reg_alpha=0.0 will be ignored. Current value: lambda_l1=1.6016593793330114\n",
      "[LightGBM] [Warning] lambda_l2 is set=0.09057662834793208, reg_lambda=0.0 will be ignored. Current value: lambda_l2=0.09057662834793208\n",
      "[LightGBM] [Warning] feature_fraction is set=0.9342890489962028, colsample_bytree=1.0 will be ignored. Current value: feature_fraction=0.9342890489962028\n"
     ]
    },
    {
     "name": "stderr",
     "output_type": "stream",
     "text": [
      "INFO:train:out-of-sample performance: -0.14971767949395942\n",
      "/Users/markustretzmueller/PycharmProjects/fintuna/fintuna/model/ModelBase.py:55: FutureWarning: suggest_loguniform has been deprecated in v3.0.0. This feature will be removed in v6.0.0. See https://github.com/optuna/optuna/releases/tag/v3.0.0. Use :func:`~optuna.trial.FrozenTrial.suggest_float` instead.\n",
      "  'lambda_l1': self.trial.suggest_loguniform('lambda_l1', .01, 10.),\n",
      "/Users/markustretzmueller/PycharmProjects/fintuna/fintuna/model/ModelBase.py:56: FutureWarning: suggest_loguniform has been deprecated in v3.0.0. This feature will be removed in v6.0.0. See https://github.com/optuna/optuna/releases/tag/v3.0.0. Use :func:`~optuna.trial.FrozenTrial.suggest_float` instead.\n",
      "  'lambda_l2': self.trial.suggest_loguniform('lambda_l2', .01, 10.),\n"
     ]
    },
    {
     "name": "stdout",
     "output_type": "stream",
     "text": [
      "[LightGBM] [Warning] lambda_l1 is set=0.4435890490241315, reg_alpha=0.0 will be ignored. Current value: lambda_l1=0.4435890490241315\n",
      "[LightGBM] [Warning] lambda_l2 is set=0.7631776984027265, reg_lambda=0.0 will be ignored. Current value: lambda_l2=0.7631776984027265\n",
      "[LightGBM] [Warning] feature_fraction is set=0.5829126720447225, colsample_bytree=1.0 will be ignored. Current value: feature_fraction=0.5829126720447225\n"
     ]
    },
    {
     "name": "stderr",
     "output_type": "stream",
     "text": [
      "INFO:train:out-of-sample performance: 0.01608942110818257\n",
      "/Users/markustretzmueller/PycharmProjects/fintuna/fintuna/model/ModelBase.py:55: FutureWarning: suggest_loguniform has been deprecated in v3.0.0. This feature will be removed in v6.0.0. See https://github.com/optuna/optuna/releases/tag/v3.0.0. Use :func:`~optuna.trial.FrozenTrial.suggest_float` instead.\n",
      "  'lambda_l1': self.trial.suggest_loguniform('lambda_l1', .01, 10.),\n",
      "/Users/markustretzmueller/PycharmProjects/fintuna/fintuna/model/ModelBase.py:56: FutureWarning: suggest_loguniform has been deprecated in v3.0.0. This feature will be removed in v6.0.0. See https://github.com/optuna/optuna/releases/tag/v3.0.0. Use :func:`~optuna.trial.FrozenTrial.suggest_float` instead.\n",
      "  'lambda_l2': self.trial.suggest_loguniform('lambda_l2', .01, 10.),\n"
     ]
    },
    {
     "name": "stdout",
     "output_type": "stream",
     "text": [
      "[LightGBM] [Warning] lambda_l1 is set=0.6124451601409542, reg_alpha=0.0 will be ignored. Current value: lambda_l1=0.6124451601409542\n",
      "[LightGBM] [Warning] lambda_l2 is set=0.5852780954341225, reg_lambda=0.0 will be ignored. Current value: lambda_l2=0.5852780954341225\n",
      "[LightGBM] [Warning] feature_fraction is set=0.7640652291395175, colsample_bytree=1.0 will be ignored. Current value: feature_fraction=0.7640652291395175\n"
     ]
    },
    {
     "name": "stderr",
     "output_type": "stream",
     "text": [
      "INFO:train:out-of-sample performance: 0.4651865438691126\n",
      "/Users/markustretzmueller/PycharmProjects/fintuna/fintuna/model/ModelBase.py:55: FutureWarning: suggest_loguniform has been deprecated in v3.0.0. This feature will be removed in v6.0.0. See https://github.com/optuna/optuna/releases/tag/v3.0.0. Use :func:`~optuna.trial.FrozenTrial.suggest_float` instead.\n",
      "  'lambda_l1': self.trial.suggest_loguniform('lambda_l1', .01, 10.),\n",
      "/Users/markustretzmueller/PycharmProjects/fintuna/fintuna/model/ModelBase.py:56: FutureWarning: suggest_loguniform has been deprecated in v3.0.0. This feature will be removed in v6.0.0. See https://github.com/optuna/optuna/releases/tag/v3.0.0. Use :func:`~optuna.trial.FrozenTrial.suggest_float` instead.\n",
      "  'lambda_l2': self.trial.suggest_loguniform('lambda_l2', .01, 10.),\n"
     ]
    },
    {
     "name": "stdout",
     "output_type": "stream",
     "text": [
      "[LightGBM] [Warning] lambda_l1 is set=0.18310579261742424, reg_alpha=0.0 will be ignored. Current value: lambda_l1=0.18310579261742424\n",
      "[LightGBM] [Warning] lambda_l2 is set=0.08060850778109477, reg_lambda=0.0 will be ignored. Current value: lambda_l2=0.08060850778109477\n",
      "[LightGBM] [Warning] feature_fraction is set=0.7219948245708686, colsample_bytree=1.0 will be ignored. Current value: feature_fraction=0.7219948245708686\n"
     ]
    },
    {
     "name": "stderr",
     "output_type": "stream",
     "text": [
      "INFO:train:out-of-sample performance: 0.05607067137809185\n",
      "/Users/markustretzmueller/PycharmProjects/fintuna/fintuna/model/ModelBase.py:55: FutureWarning: suggest_loguniform has been deprecated in v3.0.0. This feature will be removed in v6.0.0. See https://github.com/optuna/optuna/releases/tag/v3.0.0. Use :func:`~optuna.trial.FrozenTrial.suggest_float` instead.\n",
      "  'lambda_l1': self.trial.suggest_loguniform('lambda_l1', .01, 10.),\n",
      "/Users/markustretzmueller/PycharmProjects/fintuna/fintuna/model/ModelBase.py:56: FutureWarning: suggest_loguniform has been deprecated in v3.0.0. This feature will be removed in v6.0.0. See https://github.com/optuna/optuna/releases/tag/v3.0.0. Use :func:`~optuna.trial.FrozenTrial.suggest_float` instead.\n",
      "  'lambda_l2': self.trial.suggest_loguniform('lambda_l2', .01, 10.),\n"
     ]
    },
    {
     "name": "stdout",
     "output_type": "stream",
     "text": [
      "[LightGBM] [Warning] lambda_l1 is set=0.41070942241895336, reg_alpha=0.0 will be ignored. Current value: lambda_l1=0.41070942241895336\n",
      "[LightGBM] [Warning] lambda_l2 is set=0.30733256591604347, reg_lambda=0.0 will be ignored. Current value: lambda_l2=0.30733256591604347\n",
      "[LightGBM] [Warning] feature_fraction is set=0.9284062178794928, colsample_bytree=1.0 will be ignored. Current value: feature_fraction=0.9284062178794928\n"
     ]
    },
    {
     "name": "stderr",
     "output_type": "stream",
     "text": [
      "INFO:train:out-of-sample performance: 0.05607067137809185\n",
      "/Users/markustretzmueller/PycharmProjects/fintuna/fintuna/model/ModelBase.py:55: FutureWarning: suggest_loguniform has been deprecated in v3.0.0. This feature will be removed in v6.0.0. See https://github.com/optuna/optuna/releases/tag/v3.0.0. Use :func:`~optuna.trial.FrozenTrial.suggest_float` instead.\n",
      "  'lambda_l1': self.trial.suggest_loguniform('lambda_l1', .01, 10.),\n",
      "/Users/markustretzmueller/PycharmProjects/fintuna/fintuna/model/ModelBase.py:56: FutureWarning: suggest_loguniform has been deprecated in v3.0.0. This feature will be removed in v6.0.0. See https://github.com/optuna/optuna/releases/tag/v3.0.0. Use :func:`~optuna.trial.FrozenTrial.suggest_float` instead.\n",
      "  'lambda_l2': self.trial.suggest_loguniform('lambda_l2', .01, 10.),\n"
     ]
    },
    {
     "name": "stdout",
     "output_type": "stream",
     "text": [
      "[LightGBM] [Warning] lambda_l1 is set=0.41070942241895336, reg_alpha=0.0 will be ignored. Current value: lambda_l1=0.41070942241895336\n",
      "[LightGBM] [Warning] lambda_l2 is set=0.30733256591604347, reg_lambda=0.0 will be ignored. Current value: lambda_l2=0.30733256591604347\n",
      "[LightGBM] [Warning] feature_fraction is set=0.9284062178794928, colsample_bytree=1.0 will be ignored. Current value: feature_fraction=0.9284062178794928\n"
     ]
    },
    {
     "name": "stderr",
     "output_type": "stream",
     "text": [
      "INFO:train:out-of-sample performance: 0.0\n",
      "/Users/markustretzmueller/PycharmProjects/fintuna/fintuna/model/ModelBase.py:55: FutureWarning: suggest_loguniform has been deprecated in v3.0.0. This feature will be removed in v6.0.0. See https://github.com/optuna/optuna/releases/tag/v3.0.0. Use :func:`~optuna.trial.FrozenTrial.suggest_float` instead.\n",
      "  'lambda_l1': self.trial.suggest_loguniform('lambda_l1', .01, 10.),\n",
      "/Users/markustretzmueller/PycharmProjects/fintuna/fintuna/model/ModelBase.py:56: FutureWarning: suggest_loguniform has been deprecated in v3.0.0. This feature will be removed in v6.0.0. See https://github.com/optuna/optuna/releases/tag/v3.0.0. Use :func:`~optuna.trial.FrozenTrial.suggest_float` instead.\n",
      "  'lambda_l2': self.trial.suggest_loguniform('lambda_l2', .01, 10.),\n"
     ]
    },
    {
     "name": "stdout",
     "output_type": "stream",
     "text": [
      "[LightGBM] [Warning] lambda_l1 is set=0.41070942241895336, reg_alpha=0.0 will be ignored. Current value: lambda_l1=0.41070942241895336\n",
      "[LightGBM] [Warning] lambda_l2 is set=0.30733256591604347, reg_lambda=0.0 will be ignored. Current value: lambda_l2=0.30733256591604347\n",
      "[LightGBM] [Warning] feature_fraction is set=0.9284062178794928, colsample_bytree=1.0 will be ignored. Current value: feature_fraction=0.9284062178794928\n"
     ]
    },
    {
     "name": "stderr",
     "output_type": "stream",
     "text": [
      "INFO:train:out-of-sample performance: 0.09036104400692802\n",
      "/Users/markustretzmueller/PycharmProjects/fintuna/fintuna/model/ModelBase.py:55: FutureWarning: suggest_loguniform has been deprecated in v3.0.0. This feature will be removed in v6.0.0. See https://github.com/optuna/optuna/releases/tag/v3.0.0. Use :func:`~optuna.trial.FrozenTrial.suggest_float` instead.\n",
      "  'lambda_l1': self.trial.suggest_loguniform('lambda_l1', .01, 10.),\n",
      "/Users/markustretzmueller/PycharmProjects/fintuna/fintuna/model/ModelBase.py:56: FutureWarning: suggest_loguniform has been deprecated in v3.0.0. This feature will be removed in v6.0.0. See https://github.com/optuna/optuna/releases/tag/v3.0.0. Use :func:`~optuna.trial.FrozenTrial.suggest_float` instead.\n",
      "  'lambda_l2': self.trial.suggest_loguniform('lambda_l2', .01, 10.),\n"
     ]
    },
    {
     "name": "stdout",
     "output_type": "stream",
     "text": [
      "[LightGBM] [Warning] lambda_l1 is set=0.3667495237589213, reg_alpha=0.0 will be ignored. Current value: lambda_l1=0.3667495237589213\n",
      "[LightGBM] [Warning] lambda_l2 is set=0.05770281247224095, reg_lambda=0.0 will be ignored. Current value: lambda_l2=0.05770281247224095\n",
      "[LightGBM] [Warning] feature_fraction is set=0.980312952957165, colsample_bytree=1.0 will be ignored. Current value: feature_fraction=0.980312952957165\n"
     ]
    },
    {
     "name": "stderr",
     "output_type": "stream",
     "text": [
      "INFO:train:out-of-sample performance: 0.34417071293816315\n",
      "/Users/markustretzmueller/PycharmProjects/fintuna/fintuna/model/ModelBase.py:55: FutureWarning: suggest_loguniform has been deprecated in v3.0.0. This feature will be removed in v6.0.0. See https://github.com/optuna/optuna/releases/tag/v3.0.0. Use :func:`~optuna.trial.FrozenTrial.suggest_float` instead.\n",
      "  'lambda_l1': self.trial.suggest_loguniform('lambda_l1', .01, 10.),\n",
      "/Users/markustretzmueller/PycharmProjects/fintuna/fintuna/model/ModelBase.py:56: FutureWarning: suggest_loguniform has been deprecated in v3.0.0. This feature will be removed in v6.0.0. See https://github.com/optuna/optuna/releases/tag/v3.0.0. Use :func:`~optuna.trial.FrozenTrial.suggest_float` instead.\n",
      "  'lambda_l2': self.trial.suggest_loguniform('lambda_l2', .01, 10.),\n"
     ]
    },
    {
     "name": "stdout",
     "output_type": "stream",
     "text": [
      "[LightGBM] [Warning] lambda_l1 is set=0.3667495237589213, reg_alpha=0.0 will be ignored. Current value: lambda_l1=0.3667495237589213\n",
      "[LightGBM] [Warning] lambda_l2 is set=0.05770281247224095, reg_lambda=0.0 will be ignored. Current value: lambda_l2=0.05770281247224095\n",
      "[LightGBM] [Warning] feature_fraction is set=0.980312952957165, colsample_bytree=1.0 will be ignored. Current value: feature_fraction=0.980312952957165\n"
     ]
    },
    {
     "name": "stderr",
     "output_type": "stream",
     "text": [
      "INFO:train:out-of-sample performance: 0.05607067137809185\n",
      "/Users/markustretzmueller/PycharmProjects/fintuna/fintuna/model/ModelBase.py:55: FutureWarning: suggest_loguniform has been deprecated in v3.0.0. This feature will be removed in v6.0.0. See https://github.com/optuna/optuna/releases/tag/v3.0.0. Use :func:`~optuna.trial.FrozenTrial.suggest_float` instead.\n",
      "  'lambda_l1': self.trial.suggest_loguniform('lambda_l1', .01, 10.),\n",
      "/Users/markustretzmueller/PycharmProjects/fintuna/fintuna/model/ModelBase.py:56: FutureWarning: suggest_loguniform has been deprecated in v3.0.0. This feature will be removed in v6.0.0. See https://github.com/optuna/optuna/releases/tag/v3.0.0. Use :func:`~optuna.trial.FrozenTrial.suggest_float` instead.\n",
      "  'lambda_l2': self.trial.suggest_loguniform('lambda_l2', .01, 10.),\n"
     ]
    },
    {
     "name": "stdout",
     "output_type": "stream",
     "text": [
      "[LightGBM] [Warning] lambda_l1 is set=0.601711662611902, reg_alpha=0.0 will be ignored. Current value: lambda_l1=0.601711662611902\n",
      "[LightGBM] [Warning] lambda_l2 is set=0.0944107969183124, reg_lambda=0.0 will be ignored. Current value: lambda_l2=0.0944107969183124\n",
      "[LightGBM] [Warning] feature_fraction is set=0.5958996087451982, colsample_bytree=1.0 will be ignored. Current value: feature_fraction=0.5958996087451982\n"
     ]
    },
    {
     "name": "stderr",
     "output_type": "stream",
     "text": [
      "INFO:train:out-of-sample performance: -0.22640416632731097\n",
      "/Users/markustretzmueller/PycharmProjects/fintuna/fintuna/model/ModelBase.py:55: FutureWarning: suggest_loguniform has been deprecated in v3.0.0. This feature will be removed in v6.0.0. See https://github.com/optuna/optuna/releases/tag/v3.0.0. Use :func:`~optuna.trial.FrozenTrial.suggest_float` instead.\n",
      "  'lambda_l1': self.trial.suggest_loguniform('lambda_l1', .01, 10.),\n",
      "/Users/markustretzmueller/PycharmProjects/fintuna/fintuna/model/ModelBase.py:56: FutureWarning: suggest_loguniform has been deprecated in v3.0.0. This feature will be removed in v6.0.0. See https://github.com/optuna/optuna/releases/tag/v3.0.0. Use :func:`~optuna.trial.FrozenTrial.suggest_float` instead.\n",
      "  'lambda_l2': self.trial.suggest_loguniform('lambda_l2', .01, 10.),\n"
     ]
    },
    {
     "name": "stdout",
     "output_type": "stream",
     "text": [
      "[LightGBM] [Warning] lambda_l1 is set=0.601711662611902, reg_alpha=0.0 will be ignored. Current value: lambda_l1=0.601711662611902\n",
      "[LightGBM] [Warning] lambda_l2 is set=0.0944107969183124, reg_lambda=0.0 will be ignored. Current value: lambda_l2=0.0944107969183124\n",
      "[LightGBM] [Warning] feature_fraction is set=0.5958996087451982, colsample_bytree=1.0 will be ignored. Current value: feature_fraction=0.5958996087451982\n"
     ]
    },
    {
     "name": "stderr",
     "output_type": "stream",
     "text": [
      "INFO:train:out-of-sample performance: 0.008040133779264162\n",
      "/Users/markustretzmueller/PycharmProjects/fintuna/fintuna/model/ModelBase.py:55: FutureWarning: suggest_loguniform has been deprecated in v3.0.0. This feature will be removed in v6.0.0. See https://github.com/optuna/optuna/releases/tag/v3.0.0. Use :func:`~optuna.trial.FrozenTrial.suggest_float` instead.\n",
      "  'lambda_l1': self.trial.suggest_loguniform('lambda_l1', .01, 10.),\n",
      "/Users/markustretzmueller/PycharmProjects/fintuna/fintuna/model/ModelBase.py:56: FutureWarning: suggest_loguniform has been deprecated in v3.0.0. This feature will be removed in v6.0.0. See https://github.com/optuna/optuna/releases/tag/v3.0.0. Use :func:`~optuna.trial.FrozenTrial.suggest_float` instead.\n",
      "  'lambda_l2': self.trial.suggest_loguniform('lambda_l2', .01, 10.),\n"
     ]
    },
    {
     "name": "stdout",
     "output_type": "stream",
     "text": [
      "[LightGBM] [Warning] lambda_l1 is set=0.601711662611902, reg_alpha=0.0 will be ignored. Current value: lambda_l1=0.601711662611902\n",
      "[LightGBM] [Warning] lambda_l2 is set=0.0944107969183124, reg_lambda=0.0 will be ignored. Current value: lambda_l2=0.0944107969183124\n",
      "[LightGBM] [Warning] feature_fraction is set=0.5958996087451982, colsample_bytree=1.0 will be ignored. Current value: feature_fraction=0.5958996087451982\n"
     ]
    },
    {
     "name": "stderr",
     "output_type": "stream",
     "text": [
      "INFO:train:out-of-sample performance: 0.057217825089250995\n",
      "/Users/markustretzmueller/PycharmProjects/fintuna/fintuna/model/ModelBase.py:55: FutureWarning: suggest_loguniform has been deprecated in v3.0.0. This feature will be removed in v6.0.0. See https://github.com/optuna/optuna/releases/tag/v3.0.0. Use :func:`~optuna.trial.FrozenTrial.suggest_float` instead.\n",
      "  'lambda_l1': self.trial.suggest_loguniform('lambda_l1', .01, 10.),\n",
      "/Users/markustretzmueller/PycharmProjects/fintuna/fintuna/model/ModelBase.py:56: FutureWarning: suggest_loguniform has been deprecated in v3.0.0. This feature will be removed in v6.0.0. See https://github.com/optuna/optuna/releases/tag/v3.0.0. Use :func:`~optuna.trial.FrozenTrial.suggest_float` instead.\n",
      "  'lambda_l2': self.trial.suggest_loguniform('lambda_l2', .01, 10.),\n"
     ]
    },
    {
     "name": "stdout",
     "output_type": "stream",
     "text": [
      "[LightGBM] [Warning] lambda_l1 is set=0.6124451601409542, reg_alpha=0.0 will be ignored. Current value: lambda_l1=0.6124451601409542\n",
      "[LightGBM] [Warning] lambda_l2 is set=0.5852780954341225, reg_lambda=0.0 will be ignored. Current value: lambda_l2=0.5852780954341225\n",
      "[LightGBM] [Warning] feature_fraction is set=0.7640652291395175, colsample_bytree=1.0 will be ignored. Current value: feature_fraction=0.7640652291395175\n"
     ]
    },
    {
     "name": "stderr",
     "output_type": "stream",
     "text": [
      "/Users/markustretzmueller/PycharmProjects/fintuna/fintuna/model/ModelBase.py:55: FutureWarning: suggest_loguniform has been deprecated in v3.0.0. This feature will be removed in v6.0.0. See https://github.com/optuna/optuna/releases/tag/v3.0.0. Use :func:`~optuna.trial.FrozenTrial.suggest_float` instead.\n",
      "  'lambda_l1': self.trial.suggest_loguniform('lambda_l1', .01, 10.),\n",
      "/Users/markustretzmueller/PycharmProjects/fintuna/fintuna/model/ModelBase.py:56: FutureWarning: suggest_loguniform has been deprecated in v3.0.0. This feature will be removed in v6.0.0. See https://github.com/optuna/optuna/releases/tag/v3.0.0. Use :func:`~optuna.trial.FrozenTrial.suggest_float` instead.\n",
      "  'lambda_l2': self.trial.suggest_loguniform('lambda_l2', .01, 10.),\n",
      "/Users/markustretzmueller/PycharmProjects/fintuna/fintuna/model/ModelBase.py:55: FutureWarning: suggest_loguniform has been deprecated in v3.0.0. This feature will be removed in v6.0.0. See https://github.com/optuna/optuna/releases/tag/v3.0.0. Use :func:`~optuna.trial.FrozenTrial.suggest_float` instead.\n",
      "  'lambda_l1': self.trial.suggest_loguniform('lambda_l1', .01, 10.),\n",
      "/Users/markustretzmueller/PycharmProjects/fintuna/fintuna/model/ModelBase.py:56: FutureWarning: suggest_loguniform has been deprecated in v3.0.0. This feature will be removed in v6.0.0. See https://github.com/optuna/optuna/releases/tag/v3.0.0. Use :func:`~optuna.trial.FrozenTrial.suggest_float` instead.\n",
      "  'lambda_l2': self.trial.suggest_loguniform('lambda_l2', .01, 10.),\n",
      "/Users/markustretzmueller/PycharmProjects/fintuna/fintuna/model/ModelBase.py:55: FutureWarning: suggest_loguniform has been deprecated in v3.0.0. This feature will be removed in v6.0.0. See https://github.com/optuna/optuna/releases/tag/v3.0.0. Use :func:`~optuna.trial.FrozenTrial.suggest_float` instead.\n",
      "  'lambda_l1': self.trial.suggest_loguniform('lambda_l1', .01, 10.),\n",
      "/Users/markustretzmueller/PycharmProjects/fintuna/fintuna/model/ModelBase.py:56: FutureWarning: suggest_loguniform has been deprecated in v3.0.0. This feature will be removed in v6.0.0. See https://github.com/optuna/optuna/releases/tag/v3.0.0. Use :func:`~optuna.trial.FrozenTrial.suggest_float` instead.\n",
      "  'lambda_l2': self.trial.suggest_loguniform('lambda_l2', .01, 10.),\n"
     ]
    },
    {
     "name": "stdout",
     "output_type": "stream",
     "text": [
      "loading LINKUSDT\n",
      "loading CHZUSDT\n",
      "loading XEMUSDT\n",
      "loading FILUSDT\n",
      "loading ETCUSDT\n",
      "loading ZILUSDT\n",
      "loading ZECUSDT\n",
      "loading XRPUSDT\n",
      "loading SOLUSDT\n",
      "loading HNTUSDT\n",
      "loading AAVEUSDT\n",
      "loading DOTUSDT\n",
      "loading VETUSDT\n",
      "loading ATOMUSDT\n",
      "loading MATICUSDT\n",
      "loading OMGUSDT\n",
      "loading THETAUSDT\n",
      "loading ALGOUSDT\n",
      "loading BATUSDT\n",
      "loading COMPUSDT\n",
      "loading KAVAUSDT\n",
      "loading DASHUSDT\n",
      "loading UNIUSDT\n"
     ]
    },
    {
     "name": "stderr",
     "output_type": "stream",
     "text": [
      "INFO:live:checks complete!\n",
      "INFO:apscheduler.scheduler:Adding job tentatively -- it will be properly scheduled when the scheduler starts\n",
      "INFO:live:Scheduler started. LogSink will be triggered each 12H\n",
      "INFO:apscheduler.scheduler:Added job \"LookaheadCheck\" to job store \"default\"\n",
      "INFO:apscheduler.scheduler:Scheduler started\n"
     ]
    },
    {
     "ename": "KeyboardInterrupt",
     "evalue": "",
     "output_type": "error",
     "traceback": [
      "\u001B[0;31m---------------------------------------------------------------------------\u001B[0m",
      "\u001B[0;31mKeyboardInterrupt\u001B[0m                         Traceback (most recent call last)",
      "Input \u001B[0;32mIn [1]\u001B[0m, in \u001B[0;36m<cell line: 6>\u001B[0;34m()\u001B[0m\n\u001B[1;32m     61\u001B[0m crypto_study\u001B[38;5;241m.\u001B[39mfinish()\n\u001B[1;32m     62\u001B[0m logsink \u001B[38;5;241m=\u001B[39m ft\u001B[38;5;241m.\u001B[39msink\u001B[38;5;241m.\u001B[39mLogSink()  \u001B[38;5;66;03m# let's simply log the output, usually some trading execution is applied\u001B[39;00m\n\u001B[0;32m---> 63\u001B[0m \u001B[43mft\u001B[49m\u001B[38;5;241;43m.\u001B[39;49m\u001B[43mrun\u001B[49m\u001B[43m(\u001B[49m\u001B[43mget_crypto_features\u001B[49m\u001B[43m,\u001B[49m\u001B[43m \u001B[49m\u001B[43mcrypto_study\u001B[49m\u001B[43m,\u001B[49m\u001B[43m \u001B[49m\u001B[43mlogsink\u001B[49m\u001B[43m)\u001B[49m\n",
      "File \u001B[0;32m~/PycharmProjects/fintuna/fintuna/run.py:78\u001B[0m, in \u001B[0;36mrun\u001B[0;34m(data_func, finstudy, sink)\u001B[0m\n\u001B[1;32m     75\u001B[0m scheduler\u001B[38;5;241m.\u001B[39madd_job(lookahead_check, \u001B[38;5;124m'\u001B[39m\u001B[38;5;124minterval\u001B[39m\u001B[38;5;124m'\u001B[39m, seconds\u001B[38;5;241m=\u001B[39m\u001B[38;5;28mint\u001B[39m(trigger_dur_dt\u001B[38;5;241m.\u001B[39mtotal_seconds()),\n\u001B[1;32m     76\u001B[0m               start_date\u001B[38;5;241m=\u001B[39mnext_interval\u001B[38;5;241m.\u001B[39mto_pydatetime())\n\u001B[1;32m     77\u001B[0m log\u001B[38;5;241m.\u001B[39minfo(\u001B[38;5;124mf\u001B[39m\u001B[38;5;124m'\u001B[39m\u001B[38;5;124mScheduler started. \u001B[39m\u001B[38;5;132;01m{\u001B[39;00m\u001B[38;5;28mtype\u001B[39m(sink)\u001B[38;5;241m.\u001B[39m\u001B[38;5;18m__name__\u001B[39m\u001B[38;5;132;01m}\u001B[39;00m\u001B[38;5;124m will be triggered each \u001B[39m\u001B[38;5;132;01m{\u001B[39;00mfinstudy\u001B[38;5;241m.\u001B[39msampling_freq\u001B[38;5;132;01m}\u001B[39;00m\u001B[38;5;124m'\u001B[39m)\n\u001B[0;32m---> 78\u001B[0m \u001B[43mscheduler\u001B[49m\u001B[38;5;241;43m.\u001B[39;49m\u001B[43mstart\u001B[49m\u001B[43m(\u001B[49m\u001B[43m)\u001B[49m\n",
      "File \u001B[0;32m~/miniconda3/envs/fintuna/lib/python3.8/site-packages/apscheduler/schedulers/blocking.py:21\u001B[0m, in \u001B[0;36mBlockingScheduler.start\u001B[0;34m(self, *args, **kwargs)\u001B[0m\n\u001B[1;32m     18\u001B[0m     \u001B[38;5;28mself\u001B[39m\u001B[38;5;241m.\u001B[39m_event \u001B[38;5;241m=\u001B[39m Event()\n\u001B[1;32m     20\u001B[0m \u001B[38;5;28msuper\u001B[39m(BlockingScheduler, \u001B[38;5;28mself\u001B[39m)\u001B[38;5;241m.\u001B[39mstart(\u001B[38;5;241m*\u001B[39margs, \u001B[38;5;241m*\u001B[39m\u001B[38;5;241m*\u001B[39mkwargs)\n\u001B[0;32m---> 21\u001B[0m \u001B[38;5;28;43mself\u001B[39;49m\u001B[38;5;241;43m.\u001B[39;49m\u001B[43m_main_loop\u001B[49m\u001B[43m(\u001B[49m\u001B[43m)\u001B[49m\n",
      "File \u001B[0;32m~/miniconda3/envs/fintuna/lib/python3.8/site-packages/apscheduler/schedulers/blocking.py:30\u001B[0m, in \u001B[0;36mBlockingScheduler._main_loop\u001B[0;34m(self)\u001B[0m\n\u001B[1;32m     28\u001B[0m wait_seconds \u001B[38;5;241m=\u001B[39m TIMEOUT_MAX\n\u001B[1;32m     29\u001B[0m \u001B[38;5;28;01mwhile\u001B[39;00m \u001B[38;5;28mself\u001B[39m\u001B[38;5;241m.\u001B[39mstate \u001B[38;5;241m!=\u001B[39m STATE_STOPPED:\n\u001B[0;32m---> 30\u001B[0m     \u001B[38;5;28;43mself\u001B[39;49m\u001B[38;5;241;43m.\u001B[39;49m\u001B[43m_event\u001B[49m\u001B[38;5;241;43m.\u001B[39;49m\u001B[43mwait\u001B[49m\u001B[43m(\u001B[49m\u001B[43mwait_seconds\u001B[49m\u001B[43m)\u001B[49m\n\u001B[1;32m     31\u001B[0m     \u001B[38;5;28mself\u001B[39m\u001B[38;5;241m.\u001B[39m_event\u001B[38;5;241m.\u001B[39mclear()\n\u001B[1;32m     32\u001B[0m     wait_seconds \u001B[38;5;241m=\u001B[39m \u001B[38;5;28mself\u001B[39m\u001B[38;5;241m.\u001B[39m_process_jobs()\n",
      "File \u001B[0;32m~/miniconda3/envs/fintuna/lib/python3.8/threading.py:558\u001B[0m, in \u001B[0;36mEvent.wait\u001B[0;34m(self, timeout)\u001B[0m\n\u001B[1;32m    556\u001B[0m signaled \u001B[38;5;241m=\u001B[39m \u001B[38;5;28mself\u001B[39m\u001B[38;5;241m.\u001B[39m_flag\n\u001B[1;32m    557\u001B[0m \u001B[38;5;28;01mif\u001B[39;00m \u001B[38;5;129;01mnot\u001B[39;00m signaled:\n\u001B[0;32m--> 558\u001B[0m     signaled \u001B[38;5;241m=\u001B[39m \u001B[38;5;28;43mself\u001B[39;49m\u001B[38;5;241;43m.\u001B[39;49m\u001B[43m_cond\u001B[49m\u001B[38;5;241;43m.\u001B[39;49m\u001B[43mwait\u001B[49m\u001B[43m(\u001B[49m\u001B[43mtimeout\u001B[49m\u001B[43m)\u001B[49m\n\u001B[1;32m    559\u001B[0m \u001B[38;5;28;01mreturn\u001B[39;00m signaled\n",
      "File \u001B[0;32m~/miniconda3/envs/fintuna/lib/python3.8/threading.py:306\u001B[0m, in \u001B[0;36mCondition.wait\u001B[0;34m(self, timeout)\u001B[0m\n\u001B[1;32m    304\u001B[0m \u001B[38;5;28;01melse\u001B[39;00m:\n\u001B[1;32m    305\u001B[0m     \u001B[38;5;28;01mif\u001B[39;00m timeout \u001B[38;5;241m>\u001B[39m \u001B[38;5;241m0\u001B[39m:\n\u001B[0;32m--> 306\u001B[0m         gotit \u001B[38;5;241m=\u001B[39m \u001B[43mwaiter\u001B[49m\u001B[38;5;241;43m.\u001B[39;49m\u001B[43macquire\u001B[49m\u001B[43m(\u001B[49m\u001B[38;5;28;43;01mTrue\u001B[39;49;00m\u001B[43m,\u001B[49m\u001B[43m \u001B[49m\u001B[43mtimeout\u001B[49m\u001B[43m)\u001B[49m\n\u001B[1;32m    307\u001B[0m     \u001B[38;5;28;01melse\u001B[39;00m:\n\u001B[1;32m    308\u001B[0m         gotit \u001B[38;5;241m=\u001B[39m waiter\u001B[38;5;241m.\u001B[39macquire(\u001B[38;5;28;01mFalse\u001B[39;00m)\n",
      "\u001B[0;31mKeyboardInterrupt\u001B[0m: "
     ]
    }
   ],
   "source": [
    "import fintuna as ft\n",
    "import pandas as pd\n",
    "import numpy as np\n",
    "from binance.client import Client as BinanceClient\n",
    "\n",
    "if __name__ == '__main__':\n",
    "    # we pick some crypto assets with enough historic data on binance,\n",
    "    # comparable volatility (which excludes stable coins, doge, etc.)\n",
    "    # and market cap (which excludes bitcoin, ethereum and tiny coins)\n",
    "    altcoin_pairs = {'XRPUSDT', 'LINKUSDT', 'DASHUSDT', 'ATOMUSDT', 'ZECUSDT', 'BATUSDT', 'VETUSDT', 'UNIUSDT',\n",
    "                     'AAVEUSDT', 'ALGOUSDT', 'DOTUSDT', 'ETCUSDT', 'OMGUSDT', 'COMPUSDT',\n",
    "                     'THETAUSDT', 'SOLUSDT', 'KAVAUSDT', 'MATICUSDT', 'HNTUSDT', 'FILUSDT',\n",
    "                     'CHZUSDT', 'XEMUSDT', 'ZILUSDT'}\n",
    "\n",
    "    # we want 12h candle data ranging from 2020-01-01 to 2022-09-01\n",
    "    interval = '12h'\n",
    "    since = pd.Timestamp('2020-01-01', tz='utc')\n",
    "    until = pd.Timestamp('2022-09-01', tz='utc')\n",
    "\n",
    "    # implement the [data generating process](link)\n",
    "    client = BinanceClient()\n",
    "\n",
    "\n",
    "    def get_crypto_features(since, until, assets):\n",
    "        initiation_periods = 90  # needed for feature transformation\n",
    "        since_hat = since - pd.Timedelta(interval) * initiation_periods\n",
    "        altcoin_data = ft.utils.get_crypto_data(client, assets, since_hat, until, interval)\n",
    "\n",
    "        ## data preprocessing\n",
    "        # use rolling-zscore of volume in order to be comparable across assets\n",
    "        volumes = altcoin_data.loc[:, (slice(None), 'volume')]\n",
    "        zscore_initiation_periods = 60\n",
    "        volumes_zscored = ft.utils.zscore(volumes, zscore_initiation_periods, interval, zscore_initiation_periods)\n",
    "        # use returns, as prices are not stationary\n",
    "        prices = altcoin_data.loc[:, (slice(None), 'close')]\n",
    "        returns = prices.pct_change(freq=interval).rename({'close': 'return'}, axis=1)\n",
    "\n",
    "        ## features extraction\n",
    "        # include past observations\n",
    "        features = volumes_zscored.join(returns)\n",
    "        lagg_initiation_periods = initiation_periods - zscore_initiation_periods - 1\n",
    "        features_lagged = ft.utils.lagged_features(features, interval, n_periods=lagg_initiation_periods)\n",
    "        features = pd.concat([features, features_lagged], axis=1)\n",
    "\n",
    "        features = features[since + pd.Timedelta(interval):]  # exclude initiation data\n",
    "        features = features.replace([np.inf, -np.inf], np.nan)  # replace inf values\n",
    "        return features\n",
    "\n",
    "\n",
    "    # get train data\n",
    "    data = get_crypto_features(since, until, altcoin_pairs)\n",
    "\n",
    "    ## exploration\n",
    "    data_specs = {'returns_column': 'return', 'period': interval}\n",
    "    crypto_study = ft.FinStudy(ft.model.LongOnly, data, data_specs=data_specs)\n",
    "    results = crypto_study.explore(n_trials=50, ensemble_size=4)\n",
    "\n",
    "    # show backtest\n",
    "    ft.utils.plot_backtest(results['performance'], results['benchmark'])\n",
    "\n",
    "    # Let's deploy it\n",
    "    crypto_study.finish()\n",
    "    logsink = ft.sink.LogSink()  # let's simply log the output, usually some trading execution is applied\n",
    "    ft.run(get_crypto_features, crypto_study, logsink)\n"
   ]
  }
 ],
 "metadata": {
  "celltoolbar": "Tags",
  "kernelspec": {
   "display_name": "Python 3 (ipykernel)",
   "language": "python",
   "name": "python3"
  },
  "language_info": {
   "codemirror_mode": {
    "name": "ipython",
    "version": 3
   },
   "file_extension": ".py",
   "mimetype": "text/x-python",
   "name": "python",
   "nbconvert_exporter": "python",
   "pygments_lexer": "ipython3",
   "version": "3.8.13"
  }
 },
 "nbformat": 4,
 "nbformat_minor": 1
}
